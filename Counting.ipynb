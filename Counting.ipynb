{
 "cells": [
  {
   "cell_type": "markdown",
   "metadata": {},
   "source": [
    "I am going to open the Austen files from my local directory by using the Python open function. I'm thinking I might need to specify my file structure somehow, but I'm not sure. Let's try. "
   ]
  },
  {
   "cell_type": "code",
   "execution_count": 1,
   "metadata": {},
   "outputs": [
    {
     "ename": "FileNotFoundError",
     "evalue": "[Errno 2] No such file or directory: 'austen.zip'",
     "output_type": "error",
     "traceback": [
      "\u001b[0;31m---------------------------------------------------------------------------\u001b[0m",
      "\u001b[0;31mFileNotFoundError\u001b[0m                         Traceback (most recent call last)",
      "\u001b[0;32m<ipython-input-1-126a0daa5161>\u001b[0m in \u001b[0;36m<module>\u001b[0;34m\u001b[0m\n\u001b[0;32m----> 1\u001b[0;31m \u001b[0mfile_object\u001b[0m \u001b[0;34m=\u001b[0m \u001b[0mopen\u001b[0m\u001b[0;34m(\u001b[0m\u001b[0;34m\"austen.zip\"\u001b[0m\u001b[0;34m,\u001b[0m \u001b[0;34m\"r\"\u001b[0m\u001b[0;34m)\u001b[0m\u001b[0;34m\u001b[0m\u001b[0;34m\u001b[0m\u001b[0m\n\u001b[0m",
      "\u001b[0;31mFileNotFoundError\u001b[0m: [Errno 2] No such file or directory: 'austen.zip'"
     ]
    }
   ],
   "source": [
    "file_object = open(\"austen.zip\", \"r\") "
   ]
  },
  {
   "cell_type": "markdown",
   "metadata": {},
   "source": [
    "Okay, so I need to figure out how to tell Jupyter my directory. How do I do that I wonder? Right. I just realized the easiest solution is just to put the files in the LLCU612 folder I created. Then I'll have a URL I can call up. OR I could have read the assignment directions and seen I needed to put it on GitHub. Well, same process anyway. Looks like all is well here. "
   ]
  },
  {
   "cell_type": "code",
   "execution_count": 13,
   "metadata": {},
   "outputs": [
    {
     "name": "stdout",
     "output_type": "stream",
     "text": [
      "This string has 868945 characters\n"
     ]
    }
   ],
   "source": [
    "import urllib.request\n",
    "LadySusan = \"https://github.com/kaylinland/llcu612/blob/master/austen/1790%20Love%20And%20Freindship.txt\"\n",
    "SusanString = urllib.request.urlopen(LadySusan).read().decode().strip()\n",
    "print(\"This string has\", len(SusanString), \"characters\")"
   ]
  },
  {
   "cell_type": "markdown",
   "metadata": {},
   "source": [
    "Okay, so now I have my LadySusan text. I guess I need to figure out a way to concatenate all of the texts together so that they are one variable. Let's try calling another text. "
   ]
  },
  {
   "cell_type": "code",
   "execution_count": 15,
   "metadata": {},
   "outputs": [
    {
     "name": "stdout",
     "output_type": "stream",
     "text": [
      "This string has 91 characters\n"
     ]
    }
   ],
   "source": [
    "import urllib.request\n",
    "LoveFreindship = \"https://github.com/kaylinland/llcu612/blob/master/austen/1790%20Love%20And%20Freindship.txt\"\n",
    "LoveFreindshipString = urllib.request.urlopen(LoveFreindship).read().decode().strip()\n",
    "print(\"This string has\", len(LoveFreindship), \"characters\")"
   ]
  },
  {
   "cell_type": "markdown",
   "metadata": {},
   "source": [
    "Okay, I really need to read to the end of the directions. I see that there is a different way to do this that makes more sense, so I'm going to try the method given in the Jupyter notebook for the course. "
   ]
  },
  {
   "cell_type": "code",
   "execution_count": 26,
   "metadata": {},
   "outputs": [
    {
     "data": {
      "text/plain": [
       "[]"
      ]
     },
     "execution_count": 26,
     "metadata": {},
     "output_type": "execute_result"
    }
   ],
   "source": [
    "import glob\n",
    "textfiles = glob.glob(\"austen/*txt\")\n",
    "textfiles"
   ]
  },
  {
   "cell_type": "code",
   "execution_count": null,
   "metadata": {},
   "outputs": [],
   "source": []
  }
 ],
 "metadata": {
  "kernelspec": {
   "display_name": "Python 3",
   "language": "python",
   "name": "python3"
  },
  "language_info": {
   "codemirror_mode": {
    "name": "ipython",
    "version": 3
   },
   "file_extension": ".py",
   "mimetype": "text/x-python",
   "name": "python",
   "nbconvert_exporter": "python",
   "pygments_lexer": "ipython3",
   "version": "3.7.1"
  }
 },
 "nbformat": 4,
 "nbformat_minor": 2
}
