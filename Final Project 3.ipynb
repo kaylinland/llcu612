{
 "cells": [
  {
   "cell_type": "markdown",
   "metadata": {},
   "source": [
    "# Project background and justification: \n",
    "This project grew out of the desire to combine digital humanities practices with structuralist analyses of Chekhov's short stories. As such, I engaged with John Sturrock and Jean-Michele Rabalé's overview of structuralism and the definition of structuralism as allowing the researcher to understand a text as part of a larger system. I am considering the collected works of Chekhov's short stories (over 500 individual stories) as the Chekhovian short story system. \n",
    "The structuralist claims that inspired this project come from the following sources: \n",
    "John Tullock, Chekhov: A Structuralist Study\n",
    "Thomas Winner, Chekhov and His Prose\n",
    "Alexander Chudakov, Chekhov's Poetics\n",
    "Radislav Lapushin, Dew on the Grass: The Poetics of Inbetweeness in Chekhov\n",
    "L.S.K. le Fleming: The Structural Role of Language in Chekhov's Later Stories"
   ]
  },
  {
   "cell_type": "markdown",
   "metadata": {},
   "source": [
    "# Corpus creation and definition:\n",
    "I have chosen to utilize the complete collection of Chekhov's work compiled digitally on the site lib.ru by V. Esaulov in 2006. The text consists of 10 volumes of short stories (part of 18 volumes in the complete work). For a list of all the stories included in these volumes, see: http://az.lib.ru/c/chehow_a_p/text_1000.shtml\n",
    "\n",
    "Preparing and cleaning texts in Voyant: I have utilized .fb2 files converted to .xml downloaded from http://az.lib.ru/c/chehow_a_p/. I uploaded each volume to Voyant to divide the texts by short story and to download the corpus as plain text files. To do this, I utilized Voyant's built in XML functionality to define xpaths to break the document by section .xml elements and in the process learned about namespaces in xml schemas. I utilized the xpath: //*[local-name()='section'] to break up the documents."
   ]
  },
  {
   "cell_type": "code",
   "execution_count": 515,
   "metadata": {
    "scrolled": true
   },
   "outputs": [
    {
     "data": {
      "text/plain": [
       "586"
      ]
     },
     "execution_count": 515,
     "metadata": {},
     "output_type": "execute_result"
    }
   ],
   "source": [
    "from nltk.corpus import PlaintextCorpusReader#create Chekhov Corpus for use with nltk\n",
    "ChekhovCorpus = PlaintextCorpusReader(\"/Users/kaylinland/llcu612/ChekhovFiles/ChekhovAll\", \".*txt\")\n",
    "len(ChekhovCorpus.fileids())"
   ]
  },
  {
   "cell_type": "markdown",
   "metadata": {},
   "source": [
    "# Investigation 1: Adjective Counts\n",
    "Chekhov's use of adjectives has been the topic of two recent dissertations published in Russian. In their work on adjectives used to describe people in Chekhov's work, L. Tun cites several researchers dealing with the \"adjective question\". K. S. Gorbachevich claims Chekhov's use of semantically related adjectives provides grounds for studying synonyms. Gorbachevich identifies that Chekhov often uses synonyms to relate differing levels of meaning in his work. For example, the adjectives хороший, красивый, хорошенький reveal different semantic and stylistic meanings. \n",
    "Inspired by this work, I decided to identify the most frequently used adjectives in Chekhov's work and identify patterns in his adjective usage. The code I used to do so is as follows:"
   ]
  },
  {
   "cell_type": "code",
   "execution_count": 531,
   "metadata": {
    "scrolled": true
   },
   "outputs": [],
   "source": [
    "from pymystem3 import Mystem#Mystem provides grammatical analysis using a corpus curated from Yandex (Russia's Google). pymystem3 is the Python module for Mystem\n",
    "import os\n",
    "import glob\n",
    "import nltk\n",
    "import pprint\n",
    "import re\n",
    "%matplotlib inline\n",
    "import matplotlib.pyplot as plt\n",
    "\n",
    "def process_text_pos(filetext): \n",
    "    ### this returns a dictionary of all the words used in the filetext\n",
    "    m = Mystem() #create Mystem object\n",
    "    mAnalyzed = m.analyze(filetext);#creates dictionary with words used in text and POS info\n",
    "    mPOS = POSdict(mAnalyzed)#runs function defined below to remove extra info from dictionary and keep only text and POS info\n",
    "    adj_dict = dict()#defines adj_dict as dictionary\n",
    "    for key, value in mPOS.items():#looks at dictionary w/ text and POS to find only adjectives\n",
    "        if value[0:2] == \"A=\":#if value is adjective, key is added to dictionary as lowercase string\n",
    "            adj_dict[str(key).lower()] = 0 \n",
    "    return adj_dict # returns a dictionary of the adjectives, all lowercase, with a value of zero\n",
    "\n",
    "def POSdict(file):#this function runs grammatical analysis on words in file and returns dictionary with just word,POS\n",
    "    newDict = dict()#create blank dictionary\n",
    "    for i in file: \n",
    "        word = str(i.get('text')).strip().lower()#define individual word stripped of punctuation and lower case\n",
    "        pos = ''#iterate list\n",
    "        for key,value in i.items():#for items in dictionary\n",
    "            if key =='analysis':\n",
    "                if (value): \n",
    "                    if ('gr' in value[0].keys()) :#if value for gr then define POS as value\n",
    "                        pos = (value[0].get('gr'))#value will equal text in \"gr\"\n",
    "                    else : \n",
    "                        pos = 'NO gr IN ANALYZER'#if not value print there is no grammar in analyzer\n",
    "                else : \n",
    "                    pos = 'WORD NOT FOUND IN ANALYZER'#if there was no analysis (word was not found in MyStem)\n",
    "            if word!= '' and word != '\\n':#=\n",
    "                newDict[word] = pos\n",
    "    #pprint.pprint(newDict, width=1)\n",
    "    return(newDict)#create new dictionary with word, POS as key, value\n",
    "\n",
    "def read_file(file):#quick function for reading file text\n",
    "    f = open(file, \"r\")\n",
    "    filetext = f.read()\n",
    "    f.close()\n",
    "    return filetext \n",
    "\n",
    "def regex_word_count(filestring, word):\n",
    "    #findstring = \"\\b\" + word + \"\\b\"#use word boundaries to find words in string\n",
    "    #findstring = \"/^[\\w']$/\"\n",
    "    return sum(1 for match in re.finditer(r\"\\b\"+word+r\"\\b\", filestring))\n",
    "\n",
    "def process_files(listfiles):\n",
    "    adjcounts = dict()#create new dictionary\n",
    "    for file in listfiles:#for file in list of all files\n",
    "        filetext = read_file(file)#use read file function to open file\n",
    "        #print(\"Analyzing \" + file[38:])#keep track of printout [:38] to avoid printing full file path\n",
    "        adjcounts = {**adjcounts, **process_text_pos(filetext)}#combine adjcounts dictionary and dictionary with all adjs\n",
    "        \n",
    "    for file in listfiles:\n",
    "        filetext = read_file(file)\n",
    "        #print(\"Count adjectives in \" + file[38:]) \n",
    "        for key, value in adjcounts.items():#for item in adjcounts dictionary\n",
    "            adjcounts[key] = adjcounts.get(key) + regex_word_count(filetext.lower(), key)#adds value of 1 if word matches\n",
    "    return adjcounts"
   ]
  },
  {
   "cell_type": "code",
   "execution_count": 74,
   "metadata": {
    "scrolled": true
   },
   "outputs": [
    {
     "data": {
      "text/plain": [
       "0"
      ]
     },
     "execution_count": 74,
     "metadata": {},
     "output_type": "execute_result"
    }
   ],
   "source": [
    "text = \"Такая милая, малая женщина\"#this is to check that regex is working properly\n",
    "regex_word_count(text, \"мал\")#it is"
   ]
  },
  {
   "cell_type": "markdown",
   "metadata": {},
   "source": [
    "In order to make some sense of Chekhov's use of adjectives very broadly, I have performed some basic analysis using the Collocate and Getting Graphical Jupyter notebooks as my guides. "
   ]
  },
  {
   "cell_type": "code",
   "execution_count": 516,
   "metadata": {
    "scrolled": true
   },
   "outputs": [
    {
     "name": "stdout",
     "output_type": "stream",
     "text": [
      "Number of words in all Chekhov stories:  1846472\n",
      "Number of adjectives in Chekhov stories:  18862\n",
      "Ratio of adjectives to words:  0.010215156254738766\n",
      "    это     всё  сказал   очень человек   глаза   время    лицо   около говорит \n",
      "   9712    5660    4520    2528    2412    2272    2120    2052    1756    1752 \n"
     ]
    }
   ],
   "source": [
    "print(\"Number of words in all Chekhov stories: \", len(theText))\n",
    "print(\"Number of adjectives in Chekhov stories: \", len(chekhov_adjcounts))\n",
    "print(\"Ratio of adjectives to words: \", len(chekhov_adjcounts)/len(theText))\n",
    "freqdist = nltk.FreqDist(theText)\n",
    "from nltk.corpus import stopwords\n",
    "stopwords = nltk.corpus.stopwords.words(\"Russian\")\n",
    "textNostops = [word for word in theText if word not in stopwords]\n",
    "freqdistNostops = nltk.FreqDist(textNostops)\n",
    "freqdistNostops.tabulate(10)"
   ]
  },
  {
   "cell_type": "markdown",
   "metadata": {},
   "source": [
    "I can see that Chekhov's ration of adjectives to other words (as calculated using the adjective list I compiled below) is relatively low. I would be interested in expanding this analysis to include a comparison corpus that would allow me to identify how Chekhov's adjective usage compares to other authors in Russian. "
   ]
  },
  {
   "cell_type": "code",
   "execution_count": 535,
   "metadata": {
    "scrolled": true
   },
   "outputs": [],
   "source": [
    "chekhov_adjcounts = process_files(glob.glob(\"/Users/kaylinland/llcu612/ChekhovFiles/ChekhovAll/*txt\"))#run my function on all files "
   ]
  },
  {
   "cell_type": "code",
   "execution_count": 260,
   "metadata": {
    "scrolled": true
   },
   "outputs": [
    {
     "data": {
      "image/png": "[encoded data removed]",
      "text/plain": [
       "<Figure size 432x288 with 1 Axes>"
      ]
     },
     "metadata": {
      "needs_background": "light"
     },
     "output_type": "display_data"
    }
   ],
   "source": [
    "%matplotlib inline\n",
    "freqdistNostops.plot(20, title=\"Top Frequency of Word Tokens in Chekhov's Short Stories\")"
   ]
  },
  {
   "cell_type": "markdown",
   "metadata": {},
   "source": [
    "This project gave me a valuable space to practice using NLTK with Russian texts and discovering both the possibilities and limitations of NLTK. I used NLTK's built in Russian stop word list to find the most commonly used words in Chekhov's short stories. "
   ]
  },
  {
   "cell_type": "code",
   "execution_count": 529,
   "metadata": {},
   "outputs": [],
   "source": [
    "#pprint.pprint(chekhov_adjcounts)#list of all adjs Chekhov uses with their counts"
   ]
  },
  {
   "cell_type": "code",
   "execution_count": 518,
   "metadata": {},
   "outputs": [
    {
     "name": "stdout",
     "output_type": "stream",
     "text": [
      "легче: 100\n",
      "грохольский: 102\n",
      "большая: 103\n",
      "длинные: 103\n",
      "длинный: 103\n",
      "главное: 104\n",
      "честное: 107\n",
      "неловко: 107\n",
      "маленькая: 111\n",
      "разные: 111\n",
      "права: 111\n",
      "молодая: 112\n",
      "прошлом: 113\n",
      "нехорошо: 113\n",
      "серьезно: 116\n",
      "глупо: 118\n",
      "должна: 120\n",
      "высокий: 126\n",
      "плохо: 128\n",
      "невозможно: 130\n",
      "дорогой: 130\n",
      "верно: 131\n",
      "прежнему: 135\n",
      "старый: 137\n",
      "выше: 137\n",
      "последний: 139\n",
      "целый: 141\n",
      "хуже: 141\n",
      "милый: 142\n",
      "ясно: 142\n",
      "большие: 146\n",
      "передней: 151\n",
      "хороший: 153\n",
      "виноват: 154\n",
      "милая: 163\n",
      "дороги: 164\n",
      "должны: 169\n",
      "отлично: 179\n",
      "очевидно: 179\n",
      "весело: 184\n",
      "странно: 185\n",
      "приятно: 186\n",
      "трудно: 190\n",
      "равно: 196\n",
      "скучно: 200\n",
      "маленький: 202\n",
      "известно: 202\n",
      "угодно: 217\n",
      "обыкновенно: 226\n",
      "ужасно: 260\n",
      "видно: 305\n",
      "страшно: 313\n",
      "большой: 322\n",
      "должен: 334\n",
      "должно: 351\n",
      "молодой: 358\n",
      "нем: 387\n",
      "тихо: 427\n",
      "лучше: 433\n",
      "точно: 666\n",
      "хорошо: 699\n",
      "больше: 782\n",
      "нужно: 937\n"
     ]
    }
   ],
   "source": [
    "for key, value in sorted(chekhov_adjcounts.items(), key=lambda item: item[1]):#sorted dictionary\n",
    "    if value >=100:#print all adjectives used 100 or more times \n",
    "        print(\"%s: %s\" % (key, value))\n"
   ]
  },
  {
   "cell_type": "code",
   "execution_count": 264,
   "metadata": {
    "scrolled": true
   },
   "outputs": [
    {
     "data": {
      "image/png": "[encoded data removed]",
      "text/plain": [
       "<Figure size 432x288 with 1 Axes>"
      ]
     },
     "metadata": {
      "needs_background": "light"
     },
     "output_type": "display_data"
    }
   ],
   "source": [
    "distadjcs = nltk.FreqDist(chekhov_adjcounts)\n",
    "distadjcs.plot(20, title = \"Top 20 Adjectives Used by Chekhov\")"
   ]
  },
  {
   "cell_type": "markdown",
   "metadata": {},
   "source": [
    "Now that I have a list of all the adjectives Chekhov used and their values, I need to narrow the list down to the most frequently used terms and perform analysis on those terms. One slight issue with the way the POS tagger works is that it tags some words as adjectives that are most frequently used as adverbs but could be a short form neuter adjective. "
   ]
  },
  {
   "cell_type": "code",
   "execution_count": 204,
   "metadata": {
    "scrolled": true
   },
   "outputs": [
    {
     "name": "stdout",
     "output_type": "stream",
     "text": [
      "Displaying 25 of 1244 matches:\n",
      "орят а так презирают Новые приятели больше уже ни о чем не говорили Они разошл\n",
      "еша я влезу Девчонка ты школьница и больше ничего Подсади Лаев с пыхтеньем под\n",
      "Петр Николаич скоро ли вы Не могу я больше ждать Не могу Дайте мне кончить Ну \n",
      "ба не соусы а жаркое Вы какую птицу больше обожаете Товарищ прокурора сделал к\n",
      "дарь Катар желудка доктора выдумали Больше от вольнодумства да от гордости быв\n",
      "ренным обманутым не остается ничего больше как брюзжать и походя говорить о то\n",
      "него неладно и хочется ему говорить больше о себе самом чем о женщинах и что н\n",
      "стали проводить иначе Я был склонен больше к тихим так сказать идиллическим уд\n",
      "руг еще зарыдаю Я вышел не сказавши больше ни слова и час спустя уже сидел в в\n",
      "ь пальто или подаст мне стакан воды Больше я ничего не слышал так как уснул На\n",
      " скамьи билетов и кучи бумаг в углу больше ничего нет Ужасная бедность и ужасн\n",
      "й сидел комик и пил пиво Пил пиво и больше ничего Примечания АНЮТА В самом деш\n",
      "статься Одним словом жить с тобою я больше не желаю Анюта вернулась от художни\n",
      " перестаем кататься Бедной Наденьке больше уж негде слышать тех слов да и неко\n",
      "он боялся спросить себя чего у него больше денег или долгов Азартная биржевая \n",
      "Я батюшка очень рад всей душой Даже больше я с восторгом принимаю это предложе\n",
      "вства вздохнул он Еще бы Они бы еще больше понасажали сюда таких попов Раза тр\n",
      " не писатель Я секретарь Я вам даже больше скажу но между нами конечно статью \n",
      "т Пожалуйте с Нет ради бога Мало Ну больше дать не могу Не возьмете Помилуйте \n",
      "аконец папаша надоел учителю и стал больше невыносим Он начал лезть целоваться\n",
      "сказал медик В Лондоне в десять раз больше Там около ста тысяч таких женщин Из\n",
      "думал он Все они похожи на животных больше чем на людей но ведь они все таки л\n",
      "пые голоса наглые движения и ничего больше По видимому у каждой в прошлом был \n",
      "ять медик Даю тебе честное слово уж больше никогда не пойду с тобой в другой р\n",
      "ришка отчего ты ушел Трус ты баба и больше ничего Васильев шел позади приятеле\n"
     ]
    }
   ],
   "source": [
    "theText.concordance(\"больше\")#here in the concordance it can be seen that adverb больше is used as adverb, not neuter adj."
   ]
  },
  {
   "cell_type": "markdown",
   "metadata": {},
   "source": [
    "Utilizing Excel, I have created a table with the adjectives used by Chekhov 100 or more times and sorted them into animate adjectives (those that could describe people), short form adjectives, and adverbs. Interestingly, out of 64 top adjectives, 36 are adverbs. This has caused me to realize I may need to explore Chekhov's adjective use and raises some further interesting research questions, mainly does Chekhov use more adverbs than other Russian authors or is Russian structured such that adverb constructions (often used in impersonal expressions such as \"I am cold\" or мне холодно) are used more frequently than adjectives. For now, I need to curate a curated list of top adjectives that can be used to describe people and are not adverbs. I did this using my Excel table. "
   ]
  },
  {
   "cell_type": "code",
   "execution_count": 519,
   "metadata": {
    "scrolled": true
   },
   "outputs": [],
   "source": [
    "topadjs = {\n",
    "    \"большая\":103,\n",
    "    \"длинные\":103,\n",
    "    \"длинный\":103,\n",
    "    \"главное\":104,\n",
    "    \"честное\":107,\n",
    "    \"маленькая\":111,\n",
    "    \"разные\":111,\n",
    "    \"молодая\":112,\n",
    "    \"высокий\":126,\n",
    "    \"дорогой\":130,\n",
    "    \"старый\":137,\n",
    "    \"целый\":141,\n",
    "    \"милый\":142,\n",
    "    \"большие\":146,\n",
    "    \"хороший\":153,\n",
    "    \"виноват\":154,\n",
    "    \"милая\":163,\n",
    "    \"маленький\":202,\n",
    "    \"большой\":322,\n",
    "    \"молодой\":358\n",
    "    }\n"
   ]
  },
  {
   "cell_type": "code",
   "execution_count": 520,
   "metadata": {
    "scrolled": true
   },
   "outputs": [
    {
     "data": {
      "image/png": "[encoded data removed]",
      "text/plain": [
       "<Figure size 432x288 with 1 Axes>"
      ]
     },
     "metadata": {
      "needs_background": "light"
     },
     "output_type": "display_data"
    }
   ],
   "source": [
    "topadjsfreq = nltk.FreqDist(topadjs)\n",
    "topadjsfreq.plot(20, title=\"Top 20 Adjectives without Adverbs\")"
   ]
  },
  {
   "cell_type": "markdown",
   "metadata": {},
   "source": [
    "One of the biggest challenges of working with Russian words is that most have multiple forms. I realized that my list of top adjectives includes mostly masculine adjectives. This provides interesting information in and of itself, but it also raises the question of how to count Chekhov's adjective use. Should masculine and feminine adjectives of the same word be counted as one instance or two? What about words in different cases? I used regex to analyze stemmed adjectives in the hopes of getting a better sense of how Chekhov utilizes adjectives in all cases and with all gender endings. This was successful, but as I discovered later in my analysis, led to different problems. "
   ]
  },
  {
   "cell_type": "code",
   "execution_count": 333,
   "metadata": {
    "scrolled": true
   },
   "outputs": [
    {
     "name": "stdout",
     "output_type": "stream",
     "text": [
      "('широк', 676, 'широк', 676, 'бел', 1552, 'бессмыслен', 72, 'бледн', 864, 'блестя', 136, 'больничн', 28, 'больн', 1040, 'бос', 224, 'вышит', 16, 'весел', 744, 'внушительн', 40, 'водяночн', 4, 'воен', 160, 'высок', 916, 'вышит', 16, 'громадн', 304, 'груб', 308, 'грустн', 316, 'длин', 1132, 'душист', 36, 'желт', 268, 'жилист', 24, 'заплака', 456, 'здоров', 800, 'здоровен', 16, 'зелен', 520, 'изодра', 0, 'испит', 72, 'испуга', 548, 'коротк', 184, 'красив', 740, 'красн', 1276, 'краснощек', 24, 'кротк', 188, 'кругл', 156, 'кудряв', 76, 'легк', 564, 'лукав', 52, 'лыс', 268, 'маленьк', 1172, 'мелк', 348, 'молод', 2060, 'мрачн', 124, 'мужицк', 72, 'мягк', 380, 'нависш', 48, 'наивн', 168, 'нарядн', 20, 'нахмурен', 24, 'небольш', 212, 'невысок', 64, 'неподвижн', 436, 'несчастн', 444, 'неуклюж', 116, 'нов', 1164, 'остр', 516, 'плоск', 56, 'покойн', 512, 'полн', 884, 'полотнян', 4, 'поношен', 64, 'порядочн', 268, 'постн', 80, 'прим', 636, 'приятн', 516, 'просторн', 64, 'пухл', 152, 'равнодушн', 268, 'распущен', 56, 'роскошн', 80, 'рыж', 256, 'сед', 404, 'серьезн', 576, 'син', 368, 'ситцев', 80, 'скромн', 124, 'скуласт', 8, 'слаб', 540, 'смугл', 64, 'солидн', 204, 'стар', 5008, 'стройн', 112, 'суров', 208, 'сутул', 56, 'сухощав', 4, 'темн', 1392, 'толст', 408, 'тонк', 312, 'тучн', 0, 'туп', 284, 'тяжел', 984, 'умн', 504, 'хищн', 20, 'худеньк', 52, 'худощав', 52, 'черн', 1176, 'чернобров', 12, 'черн', 1176, 'широк', 676, 'бел', 1552, 'бел', 1552, 'бессмыслен', 72, 'бледн', 864, 'блестя', 136, 'больничн', 28, 'больн', 1040, 'бос', 224, 'вышит', 16, 'весел', 744, 'внушительн', 40, 'водяночн', 4, 'воен', 160, 'высок', 916, 'вышит', 16, 'громадн', 304, 'груб', 308, 'грустн', 316, 'длин', 1132, 'душист', 36, 'желт', 268, 'жилист', 24, 'заплака', 456, 'здоров', 800, 'здоровен', 16, 'зелен', 520, 'изодра', 0, 'испит', 72, 'испуга', 548, 'коротк', 184, 'красив', 740, 'красн', 1276, 'краснощек', 24, 'кротк', 188, 'кругл', 156, 'кудряв', 76, 'легк', 564, 'лукав', 52, 'лыс', 268, 'маленьк', 1172, 'мелк', 348, 'молод', 2060, 'мрачн', 124, 'мужицк', 72, 'мягк', 380, 'нависш', 48, 'наивн', 168, 'нарядн', 20, 'нахмурен', 24, 'небольш', 212, 'невысок', 64, 'неподвижн', 436, 'несчастн', 444, 'неуклюж', 116, 'нов', 1164, 'остр', 516, 'плоск', 56, 'покойн', 512, 'полн', 884, 'полотнян', 4, 'поношен', 64, 'порядочн', 268, 'постн', 80, 'прим', 636, 'приятн', 516, 'просторн', 64, 'пухл', 152, 'равнодушн', 268, 'распущен', 56, 'роскошн', 80, 'рыж', 256, 'сед', 404, 'серьезн', 576, 'син', 368, 'ситцев', 80, 'скромн', 124, 'скуласт', 8, 'слаб', 540, 'смугл', 64, 'солидн', 204, 'стар', 5008, 'стройн', 112, 'суров', 208, 'сутул', 56, 'сухощав', 4, 'темн', 1392, 'толст', 408, 'тонк', 312, 'тучн', 0, 'туп', 284, 'тяжел', 984, 'умн', 504, 'хищн', 20, 'худеньк', 52, 'худощав', 52, 'черн', 1176, 'чернобров', 12, 'черн', 1176, 'широк', 676, 'бел', 1552, 'бессмыслен', 72, 'бледн', 864, 'блестя', 136, 'больничн', 28, 'больн', 1040, 'бос', 224, 'вышит', 16, 'весел', 744, 'внушительн', 40, 'водяночн', 4, 'воен', 160, 'высок', 916, 'вышит', 16, 'громадн', 304, 'груб', 308, 'грустн', 316, 'длин', 1132, 'душист', 36, 'желт', 268, 'жилист', 24, 'заплака', 456, 'здоров', 800, 'здоровен', 16, 'зелен', 520, 'изодра', 0, 'испит', 72, 'испуга', 548, 'коротк', 184, 'красив', 740, 'красн', 1276, 'краснощек', 24, 'кротк', 188, 'кругл', 156, 'кудряв', 76, 'легк', 564, 'лукав', 52, 'лыс', 268, 'маленьк', 1172, 'мелк', 348, 'молод', 2060, 'мрачн', 124, 'мужицк', 72, 'мягк', 380, 'нависш', 48, 'наивн', 168, 'нарядн', 20, 'нахмурен', 24, 'небольш', 212, 'невысок', 64, 'неподвижн', 436, 'несчастн', 444, 'неуклюж', 116, 'нов', 1164, 'остр', 516, 'плоск', 56, 'покойн', 512, 'полн', 884, 'полотнян', 4, 'поношен', 64, 'порядочн', 268, 'постн', 80, 'прим', 636, 'приятн', 516, 'просторн', 64, 'пухл', 152, 'равнодушн', 268, 'распущен', 56, 'роскошн', 80, 'рыж', 256, 'сед', 404, 'серьезн', 576, 'син', 368, 'ситцев', 80, 'скромн', 124, 'скуласт', 8, 'слаб', 540, 'смугл', 64, 'солидн', 204, 'стар', 5008, 'стройн', 112, 'суров', 208, 'сутул', 56, 'сухощав', 4, 'темн', 1392, 'толст', 408, 'тонк', 312, 'тучн', 0, 'туп', 284, 'тяжел', 984, 'умн', 504, 'хищн', 20, 'худеньк', 52, 'худощав', 52, 'черн', 1176, 'чернобров', 12, 'черн', 1176, 'широк', 676, 'больш', 3212, 'длин', 1132, 'длин', 1132, 'главн', 348, 'честн', 504, 'маленьк', 1172, 'разн', 500, 'молод', 2060, 'высок', 916, 'дорог', 1728, 'стар', 5008, 'цел', 1236, 'мил', 1576, 'больш', 3212, 'хорош', 2656, 'виноват', 644, 'мил', 1576, 'маленьк', 1172, 'больш', 3212, 'молод', 2060)\n"
     ]
    }
   ],
   "source": [
    "from nltk.stem.snowball import SnowballStemmer#Russian stemmer\n",
    "stemmer = SnowballStemmer(\"russian\")\n",
    "stems = [stemmer.stem(word) for word in topadjs]\n",
    "def regex_word_count_stem(filestring, word):\n",
    "    return sum(1 for match in re.finditer(r\"\\b\"+word+r\"[a-z]{0,4}\", filestring))#look for word boundary, find word with up to 4 letters after\n",
    "regex_word_count_stem(\"красивый красный красивые красное\", \"крас\")#by george it works!\n",
    "for stem in stems: \n",
    "    word = stem\n",
    "    count = regex_word_count_stem(str(listOfTokens), stem)#go through entire text tokens and compare token with stems\n",
    "    stemsandcounts += word, count\n",
    "print(stemsandcounts)"
   ]
  },
  {
   "cell_type": "code",
   "execution_count": 335,
   "metadata": {
    "scrolled": true
   },
   "outputs": [],
   "source": [
    "topadjs = {\n",
    "    \"большая\":103,\n",
    "    \"длинные\":103,\n",
    "    \"длинный\":103,\n",
    "    \"главное\":104,\n",
    "    \"честное\":107,\n",
    "    \"маленькая\":111,\n",
    "    \"разные\":111,\n",
    "    \"молодая\":112,\n",
    "    \"высокий\":126,\n",
    "    \"дорогой\":130,\n",
    "    \"старый\":137,\n",
    "    \"целый\":141,\n",
    "    \"милый\":142,\n",
    "    \"большие\":146,\n",
    "    \"хороший\":153,\n",
    "    \"виноват\":154,\n",
    "    \"милая\":163,\n",
    "    \"маленький\":202,\n",
    "    \"большой\":322,\n",
    "    \"молодой\":358\n",
    "    }\n",
    "\n",
    "topadjsstems = {\n",
    "    \"серьезн\":576,\n",
    "    \"прим\":636,\n",
    "    \"больш\":676,\n",
    "    \"широк\":676,\n",
    "    \"красив\":740,\n",
    "    \"весел\":744,\n",
    "    \"здоров\":800,\n",
    "    \"бледн\":864,\n",
    "    \"полн\":884,\n",
    "    \"высок\":916,\n",
    "    \"тяжел\":984,\n",
    "    \"длин\":1132,\n",
    "    \"бел\":1152,\n",
    "    \"нов\":1164,\n",
    "    \"маленьк\":1172,\n",
    "    \"черн\":1176,\n",
    "    \"черн\":1176,\n",
    "    \"красн\":1276,\n",
    "    \"темн\":1392,\n",
    "    \"молод\":2060,\n",
    "    \"стар\":5008\n",
    "}"
   ]
  },
  {
   "cell_type": "markdown",
   "metadata": {},
   "source": [
    "Using the analysis from above, I can compare the list of most common adjectives with the list of adjectives found by their stems. The top 10 adjectives by stem are стар, молод, темн, красн, черн, маленьк, нов, бел, длин. The top 10 adjectives (not stemmed) are молодой, большой, маленький, милая, виноват, хороший, большие, милый, целый, старый. All of these adjectives are in the masculine form (except for the notable exception милая or sweet/kind/cute) suggesting Chekhov either utilizes more adjectives to describe men or that he has fewer male characters. This is a question I will investigate below. My next step is to compile stastics looking at the usage of the female versus male usage of these adjectives. "
   ]
  },
  {
   "cell_type": "code",
   "execution_count": 393,
   "metadata": {
    "scrolled": true
   },
   "outputs": [
    {
     "name": "stdout",
     "output_type": "stream",
     "text": [
      "Counts for adjective старый/old in all cases\n",
      "Masc. nom. 212\n",
      "Fem. nom. 120\n",
      "Masc. acc/gen. 68\n",
      "Fem. dat/gen/prep 76\n",
      "Masc. dat 16\n",
      "Fem. acc 48\n",
      "Masc. inst 24\n",
      "Masc. prep 28\n",
      "Fem. inst 8\n",
      "Plural nom 104\n",
      "Plural acc/gen/prep 52\n",
      "Plural inst 0\n",
      "Plural dat 24\n",
      "Total masculine = 348\n",
      "Total feminine = 252\n",
      "Total use of adjective old to describe people = 780\n"
     ]
    }
   ],
   "source": [
    "print(\"Counts for adjective старый/old in all cases\")\n",
    "print(\"Masc. nom.\", theText.count(\"старый\"))\n",
    "print(\"Fem. nom.\", theText.count(\"старая\"))\n",
    "print(\"Masc. acc/gen.\", theText.count(\"старого\"))\n",
    "print(\"Fem. dat/gen/prep\", theText.count(\"старой\"))\n",
    "print(\"Masc. dat\", theText.count(\"старому\"))\n",
    "print(\"Fem. acc\", theText.count(\"старую\"))\n",
    "print(\"Masc. inst\", theText.count(\"старым\"))\n",
    "print(\"Masc. prep\", theText.count(\"старом\"))\n",
    "print(\"Fem. inst\", theText.count(\"старою\"))\n",
    "print(\"Plural nom\", theText.count(\"старые\"))\n",
    "print(\"Plural acc/gen/prep\", theText.count(\"старых\"))\n",
    "print(\"Plural inst\", theText.count(\"старими\"))\n",
    "print(\"Plural dat\", theText.count(\"старым\"))#same as inst. singular\n",
    "\n",
    "print(\"Total masculine = 348\")\n",
    "print(\"Total feminine = 252\")\n",
    "print(\"Total use of adjective old to describe people = 780\")\n",
    "\n"
   ]
  },
  {
   "cell_type": "markdown",
   "metadata": {},
   "source": [
    "In examining Chekhov's use of the adjective \"old\" as it is used to describe people, I see that the term is used 780 times. While at first this seems like quite a lot, it is interesting to consider that the corpus only consists of 586 stories. Furthermore, it's helpful to note the discrepancy between the 780 counts I obtained searching for exact matches for the adjective \"old\" in all its cases for both men and women as compared to the search for the stem \"стар\" which produced 5008 counts. Of course, there are words with this root that are not adjectives (including quite a few verbs) so perhaps using stems is not the most logical. However, it is useful as I think about the best ways to move forward analyzing Russian texts with DH! Russian's structure is both and blessing and a curse for text analysis.\n",
    "\n",
    "Using Voyant, I can compare the usage of words with the root стар over the course of the stories. The graph shows that Chekhov uses this term frequently across most of his stories, with some obvious spikes. However, one issue I have noticed in using relative frequencies with someone like Chekhov is that the length of his stories can throw off the analysis, as some of his stories are quite short and the appearance of the word \"old\" even one time would have relatively high frequency as some stories have as few as 100 words total. For that reason, it is interesting to compare relative frequencies to raw frequencies (as I have done below). "
   ]
  },
  {
   "cell_type": "code",
   "execution_count": 524,
   "metadata": {
    "scrolled": false
   },
   "outputs": [
    {
     "data": {
      "text/html": [
       "\n",
       "        <iframe\n",
       "            width=\"600\"\n",
       "            height=\"700\"\n",
       "            src=\"http://127.0.0.1:8887/?corpus=30261348497717d9caab9624fead8c44&query=стар*&view=Trends\"\n",
       "            frameborder=\"0\"\n",
       "            allowfullscreen\n",
       "        ></iframe>\n",
       "        "
      ],
      "text/plain": [
       "<IPython.lib.display.IFrame at 0x1228eb438>"
      ]
     },
     "execution_count": 524,
     "metadata": {},
     "output_type": "execute_result"
    }
   ],
   "source": [
    "from IPython.display import IFrame\n",
    "IFrame(\"http://127.0.0.1:8887/?corpus=30261348497717d9caab9624fead8c44&query=стар*&view=Trends\", width=600, height=700)"
   ]
  },
  {
   "cell_type": "code",
   "execution_count": 434,
   "metadata": {
    "scrolled": true
   },
   "outputs": [
    {
     "data": {
      "text/html": [
       "\n",
       "        <iframe\n",
       "            width=\"600\"\n",
       "            height=\"700\"\n",
       "            src=\"http://127.0.0.1:8887/?corpus=30261348497717d9caab9624fead8c44&query=стар*&withDistributions=raw&chartType=bar&view=Trends\"\n",
       "            frameborder=\"0\"\n",
       "            allowfullscreen\n",
       "        ></iframe>\n",
       "        "
      ],
      "text/plain": [
       "<IPython.lib.display.IFrame at 0x122b7add8>"
      ]
     },
     "execution_count": 434,
     "metadata": {},
     "output_type": "execute_result"
    }
   ],
   "source": [
    "from IPython.display import IFrame\n",
    "IFrame(\"http://127.0.0.1:8887/?corpus=30261348497717d9caab9624fead8c44&query=стар*&withDistributions=raw&chartType=bar&view=Trends\", width=600, height=700)"
   ]
  },
  {
   "cell_type": "markdown",
   "metadata": {},
   "source": [
    "Comparing relative and raw frequencies, I can see that there are actually some stories where the word \"old\" is used many more times than in other stories. In the spirit of switching from distant to close reading, I want to look at one story in particular, В овраге or \"In the Ravine\" to see how Chekhov uses words with the root \"стар\". According to Voyant, words with the root стар are used 105 times. I have used the NLTK concordance to see exactly which words with this root are causing such a high count. As can be seen below, I found that nouns with the root стар as well as verbs throw off the count dramatically. For example, the noun старик (old man), the nick name of one of the characters in the story, accounts for 62 counts out of 105. This shows me how tenuous word counts can be and the importance of digging deeper before making conclusions. "
   ]
  },
  {
   "cell_type": "code",
   "execution_count": 525,
   "metadata": {
    "scrolled": true
   },
   "outputs": [
    {
     "name": "stdout",
     "output_type": "stream",
     "text": [
      "Displaying 4 of 4 matches:\n",
      " было похоже что это тоже жаворонок старый работник который проходил мимо крыл\n",
      " слышался смех костыль идет костыль старый хрен и эхо тоже смеялось вот и роща\n",
      "иков вызванных свидетелями выехал и старый работник получивший тоже повестку с\n",
      "огда она катила мимо лавки спрыгнул старый работник и пошел во двор слышно был\n",
      "Displaying 1 of 1 matches:\n",
      "хожих и проезжих разбойники грабили старого и малого а кто водку продавал без п\n",
      "Displaying 2 of 2 matches:\n",
      "ествие в семейной жизни померла его старуха софья никифоровна от чахотки помина\n",
      " ней пьяные мужики свесив ноги одна старуха вела мальчика в большой шапке и в б\n",
      "Displaying 1 of 1 matches:\n",
      " кто то обменил хорошую поддевку на старую и анисим вдруг вспыхнул и стал крич\n",
      "Displaying 25 of 62 matches:\n",
      " на поминках у фабриканта костюкова старик дьячок увидел среди закусок зернист\n",
      "сруб давал деньги в рост вообще был старик оборотливый у него было два сына ст\n",
      "то в амбар то в погреб то в лавку и старик цыбукин глядел на нее весело глаза \n",
      " и что бы она ни делала ни говорила старик только умилялся и бормотал ай да не\n",
      "щил он потом отцу куда это записать старик ничего не ответил а постоял подумал\n",
      " гудел предсказывая что то недоброе старик григорий петров одетый в длинный че\n",
      "подавали к крыльцу беговые дрожки и старик молодцевато садился на них надвигая\n",
      "оной жеребец стоивший триста рублей старик не любил чтобы к нему подходили муж\n",
      " как будто насильно тогда выезжал и старик цыбукин чтобы показать свою новую л\n",
      "а читались вслух по нескольку раз и старик растроганный красный от волнения го\n",
      "еницей пошел сильный дождь с крупой старик и варвара подошли к окну чтобы посм\n",
      "приданого и мы без внимания говорил старик тетке для сына нашего степана мы вз\n",
      "то лишнее в человеке потом анисим и старик пили чай и закусывали а варвара пер\n",
      "понимает соус два с полтиной сказал старик и покачал головой а что же там не д\n",
      "вен рюмочка с и всё врет проговорил старик в восхищении и всё врет я теперь вс\n",
      "я каблучкамп и точа нож о нож ходил старик варвару то и дело окликали чего ниб\n",
      " паникадило певчие как пожелал того старик цыбукин пели по нотам блеск огней и\n",
      " плотник елизаров высокий худощавый старик с такими густыми бровями что глаза \n",
      "ь стрелял из пистолета но вот и сам старик цыбукин вышел на средину и взмахнул\n",
      "ния сам вышел сам плясала варвара а старик только помахивал платком и перебира\n",
      "арил каждому по новому полтиннику и старик не качаясь а всё как то ступая на о\n",
      "ьбу твою сыграли порядком правильно старик сказывал две тысячи пошло одно слов\n",
      "белый жеребец запряженный в шарабан старик цыбукин разбежался и сел молодцеват\n",
      "и к буфету и выпили по рюмке хересу старик полез в карман за кошельком чтобы з\n",
      "бы заплатить я угощаю сказал анисим старик в умилении похлопал его по плечу и \n",
      "no matches\n"
     ]
    }
   ],
   "source": [
    "chekhovfilesv10 = glob.glob(\"/Users/kaylinland/llcu612/ChekhovFiles/Vol10/*txt\")\n",
    "#print(chekhovfilesv10)Used to identify what position file was in [1]\n",
    "ravinetext = read_file(chekhovfilesv10[1])#quick function for reading file text\n",
    "ravinetexttokens = tokenizer.tokenize(ravinetext.lower())#tokenize and lowercase\n",
    "ravinetexttokens.count(\"старый\")\n",
    "ravinetexttokensconcord = nltk.Text(ravinetexttokens)\n",
    "ravinetexttokensconcord.concordance(\"старый\")\n",
    "ravinetexttokensconcord.concordance(\"старого\")\n",
    "ravinetexttokensconcord.concordance(\"старуха\")\n",
    "ravinetexttokensconcord.concordance(\"старую\")\n",
    "ravinetexttokensconcord.concordance(\"старик\")#this is the culprit\n",
    "ravinetexttokensconcord.concordance(\"старая\")\n"
   ]
  },
  {
   "cell_type": "markdown",
   "metadata": {},
   "source": [
    "Ideally, I would have liked to compare all masculine and feminine adjectives used in Chekhov's work. However, until I find an efficient way of producing all the different forms, this proved to be too time consuming for the purposes of this project, as I had to manually type out each form of each word. I am sure there is a program for use in Russian that would provide all forms of each word. One thing this project has highlighted for me is the need to identify better sources for Russian NLP, something I am excited to do in the future. "
   ]
  },
  {
   "cell_type": "markdown",
   "metadata": {},
   "source": [
    "# Sentiment Analysis"
   ]
  },
  {
   "cell_type": "markdown",
   "metadata": {},
   "source": [
    "Tun identifies 112 adjectives used by Chekkhov to describe outer appearance. They also provide information about how Chekhov uses these adjectives in his stories (positively or negatively). I decided to try my hand at sentiment analysis. First, I was curious just how frequently Chekhov uses the adjectives Tun lists. "
   ]
  },
  {
   "cell_type": "code",
   "execution_count": 521,
   "metadata": {
    "scrolled": true
   },
   "outputs": [
    {
     "data": {
      "image/png": "[encoded data removed]",
      "text/plain": [
       "<Figure size 432x288 with 1 Axes>"
      ]
     },
     "metadata": {
      "needs_background": "light"
     },
     "output_type": "display_data"
    }
   ],
   "source": [
    "freqdistappearance = nltk.FreqDist(appearanceAdjs)\n",
    "freqdistappearance.plot(20, title=\"Top 20 Appearance Adjectives in Chekhov's Short Stories\")"
   ]
  },
  {
   "cell_type": "code",
   "execution_count": 332,
   "metadata": {
    "scrolled": true
   },
   "outputs": [
    {
     "name": "stdout",
     "output_type": "stream",
     "text": [
      "('широк', 676, 'широк', 676, 'бел', 1552, 'бессмыслен', 72, 'бледн', 864, 'блестя', 136, 'больничн', 28, 'больн', 1040, 'бос', 224, 'вышит', 16, 'весел', 744, 'внушительн', 40, 'водяночн', 4, 'воен', 160, 'высок', 916, 'вышит', 16, 'громадн', 304, 'груб', 308, 'грустн', 316, 'длин', 1132, 'душист', 36, 'желт', 268, 'жилист', 24, 'заплака', 456, 'здоров', 800, 'здоровен', 16, 'зелен', 520, 'изодра', 0, 'испит', 72, 'испуга', 548, 'коротк', 184, 'красив', 740, 'красн', 1276, 'краснощек', 24, 'кротк', 188, 'кругл', 156, 'кудряв', 76, 'легк', 564, 'лукав', 52, 'лыс', 268, 'маленьк', 1172, 'мелк', 348, 'молод', 2060, 'мрачн', 124, 'мужицк', 72, 'мягк', 380, 'нависш', 48, 'наивн', 168, 'нарядн', 20, 'нахмурен', 24, 'небольш', 212, 'невысок', 64, 'неподвижн', 436, 'несчастн', 444, 'неуклюж', 116, 'нов', 1164, 'остр', 516, 'плоск', 56, 'покойн', 512, 'полн', 884, 'полотнян', 4, 'поношен', 64, 'порядочн', 268, 'постн', 80, 'прим', 636, 'приятн', 516, 'просторн', 64, 'пухл', 152, 'равнодушн', 268, 'распущен', 56, 'роскошн', 80, 'рыж', 256, 'сед', 404, 'серьезн', 576, 'син', 368, 'ситцев', 80, 'скромн', 124, 'скуласт', 8, 'слаб', 540, 'смугл', 64, 'солидн', 204, 'стар', 5008, 'стройн', 112, 'суров', 208, 'сутул', 56, 'сухощав', 4, 'темн', 1392, 'толст', 408, 'тонк', 312, 'тучн', 0, 'туп', 284, 'тяжел', 984, 'умн', 504, 'хищн', 20, 'худеньк', 52, 'худощав', 52, 'черн', 1176, 'чернобров', 12, 'черн', 1176, 'широк', 676, 'бел', 1552, 'бел', 1552, 'бессмыслен', 72, 'бледн', 864, 'блестя', 136, 'больничн', 28, 'больн', 1040, 'бос', 224, 'вышит', 16, 'весел', 744, 'внушительн', 40, 'водяночн', 4, 'воен', 160, 'высок', 916, 'вышит', 16, 'громадн', 304, 'груб', 308, 'грустн', 316, 'длин', 1132, 'душист', 36, 'желт', 268, 'жилист', 24, 'заплака', 456, 'здоров', 800, 'здоровен', 16, 'зелен', 520, 'изодра', 0, 'испит', 72, 'испуга', 548, 'коротк', 184, 'красив', 740, 'красн', 1276, 'краснощек', 24, 'кротк', 188, 'кругл', 156, 'кудряв', 76, 'легк', 564, 'лукав', 52, 'лыс', 268, 'маленьк', 1172, 'мелк', 348, 'молод', 2060, 'мрачн', 124, 'мужицк', 72, 'мягк', 380, 'нависш', 48, 'наивн', 168, 'нарядн', 20, 'нахмурен', 24, 'небольш', 212, 'невысок', 64, 'неподвижн', 436, 'несчастн', 444, 'неуклюж', 116, 'нов', 1164, 'остр', 516, 'плоск', 56, 'покойн', 512, 'полн', 884, 'полотнян', 4, 'поношен', 64, 'порядочн', 268, 'постн', 80, 'прим', 636, 'приятн', 516, 'просторн', 64, 'пухл', 152, 'равнодушн', 268, 'распущен', 56, 'роскошн', 80, 'рыж', 256, 'сед', 404, 'серьезн', 576, 'син', 368, 'ситцев', 80, 'скромн', 124, 'скуласт', 8, 'слаб', 540, 'смугл', 64, 'солидн', 204, 'стар', 5008, 'стройн', 112, 'суров', 208, 'сутул', 56, 'сухощав', 4, 'темн', 1392, 'толст', 408, 'тонк', 312, 'тучн', 0, 'туп', 284, 'тяжел', 984, 'умн', 504, 'хищн', 20, 'худеньк', 52, 'худощав', 52, 'черн', 1176, 'чернобров', 12, 'черн', 1176, 'широк', 676, 'бел', 1552, 'бессмыслен', 72, 'бледн', 864, 'блестя', 136, 'больничн', 28, 'больн', 1040, 'бос', 224, 'вышит', 16, 'весел', 744, 'внушительн', 40, 'водяночн', 4, 'воен', 160, 'высок', 916, 'вышит', 16, 'громадн', 304, 'груб', 308, 'грустн', 316, 'длин', 1132, 'душист', 36, 'желт', 268, 'жилист', 24, 'заплака', 456, 'здоров', 800, 'здоровен', 16, 'зелен', 520, 'изодра', 0, 'испит', 72, 'испуга', 548, 'коротк', 184, 'красив', 740, 'красн', 1276, 'краснощек', 24, 'кротк', 188, 'кругл', 156, 'кудряв', 76, 'легк', 564, 'лукав', 52, 'лыс', 268, 'маленьк', 1172, 'мелк', 348, 'молод', 2060, 'мрачн', 124, 'мужицк', 72, 'мягк', 380, 'нависш', 48, 'наивн', 168, 'нарядн', 20, 'нахмурен', 24, 'небольш', 212, 'невысок', 64, 'неподвижн', 436, 'несчастн', 444, 'неуклюж', 116, 'нов', 1164, 'остр', 516, 'плоск', 56, 'покойн', 512, 'полн', 884, 'полотнян', 4, 'поношен', 64, 'порядочн', 268, 'постн', 80, 'прим', 636, 'приятн', 516, 'просторн', 64, 'пухл', 152, 'равнодушн', 268, 'распущен', 56, 'роскошн', 80, 'рыж', 256, 'сед', 404, 'серьезн', 576, 'син', 368, 'ситцев', 80, 'скромн', 124, 'скуласт', 8, 'слаб', 540, 'смугл', 64, 'солидн', 204, 'стар', 5008, 'стройн', 112, 'суров', 208, 'сутул', 56, 'сухощав', 4, 'темн', 1392, 'толст', 408, 'тонк', 312, 'тучн', 0, 'туп', 284, 'тяжел', 984, 'умн', 504, 'хищн', 20, 'худеньк', 52, 'худощав', 52, 'черн', 1176, 'чернобров', 12, 'черн', 1176, 'широк', 676)\n"
     ]
    }
   ],
   "source": [
    "from nltk.stem.snowball import SnowballStemmer\n",
    "stemmer = SnowballStemmer(\"russian\")\n",
    "stemmedadjs = [stemmer.stem(word) for word in wordList]\n",
    "stringadjs = str(stemmedadjs)\n",
    "def regex_word_count_stem(filestring, word):\n",
    "    return sum(1 for match in re.finditer(r\"\\b\"+word+r\"[a-z]{0,4}\", filestring))#look for word boundary, find word with up to 4 letters after\n",
    "regex_word_count_stem(\"красивый красный красивые красное\", \"крас\")#by george it works!\n",
    "for stem in stemmedadjs: \n",
    "    word = stem\n",
    "    count = regex_word_count_stem(str(listOfTokens), stem)#go through entire text tokens and compare token with stems\n",
    "    stemsandcounts += word, count\n",
    "print(stemsandcounts)"
   ]
  },
  {
   "cell_type": "markdown",
   "metadata": {},
   "source": [
    "I tried using the stemming method to gain a better sense of Chekhov's use of adjectives to describe people (as the list in Tun's dissertation was all given in the masculine singular nominative). Unfortunately, I ended up having to manually type out feminine versions of the adjectives in the list I used later in the process because I realized the stemming method is too subject to variation and picking up words that are not adjectives. "
   ]
  },
  {
   "cell_type": "code",
   "execution_count": 522,
   "metadata": {
    "scrolled": true
   },
   "outputs": [],
   "source": [
    "text2use = \"alltexts.txt\"#code obviously borrowed from Art of Literary Text Analysis Notebook, create one string with all text\n",
    "with open(text2use, \"r\") as fileToRead: \n",
    "    theString = fileToRead.read()\n",
    "listOfTokens = tokenizer.tokenize(theString.lower())\n",
    "theText = nltk.Text(listOfTokens)"
   ]
  },
  {
   "cell_type": "code",
   "execution_count": 523,
   "metadata": {
    "scrolled": false
   },
   "outputs": [
    {
     "data": {
      "text/plain": [
       "10384"
      ]
     },
     "execution_count": 523,
     "metadata": {},
     "output_type": "execute_result"
    }
   ],
   "source": [
    "theText.count(\"она\")#count number of times adj occurs in text "
   ]
  },
  {
   "cell_type": "code",
   "execution_count": 246,
   "metadata": {
    "scrolled": true
   },
   "outputs": [],
   "source": [
    "def simple_counter(wordList, text): #function counts how many times a word in a list appears in a string\n",
    "    worddict = dict()\n",
    "    for word in wordList: \n",
    "        wordcount = text.count(word)\n",
    "        worddict.update({word:text.count(word)})\n",
    "    return worddict"
   ]
  },
  {
   "cell_type": "code",
   "execution_count": 500,
   "metadata": {
    "scrolled": true
   },
   "outputs": [],
   "source": [
    "wordList = \"белый\", \"белая\", \"белое\", \"белые\", \"бессмысленный\", \"бессмысленная\", \"бессмысленное\", \"бессмысленные\", \"бледный\", \"бледная\", \"бледное\", \"бледные\",\"блестящий\", \"блестящая\", \"блестящее\", \"блестящие\", \"больничный\", \"больничная\", \"больничное\", \"больничные\", \"больной\", \"больная\", \"больные\", \"больное\", \"босой\", \"босая\", \"босое\", \"босые\", \"вышитый\", \"веселый\", \"веселая\", \"веселые\", \"веселое\",\"внушительный\", \"внушительная\", \"внушительные\", \"внушительное\", \"водяночный\", \"военный\", \"высокий\", \"вышитый\", \"громадный\", \"грубый\", \"грубая\", \"грубые\", \"грубое\", \"грустный\", \"грустная\", \"длинный\", \"душистый\", \"желтый\", \"жилистый\", \"заплаканный\", \"заплаканная\", \"здоровый\", \"здоровая\", \"здоровенный\", \"зеленый\", \"изодранный\", \"испитый\", \"испуганный\", \"короткий\", \"красивый\", \"красивая\", \"красный\", \"краснощекий\", \"кроткий\", \"круглый\", \"кудрявый\", \"легкий\", \"легкая\", \"лукавый\", \"лукавая\", \"лысый\", \"маленький\", \"маленькая\", \"мелкий\", \"мелкая\", \"молодой\", \"молодая\", \"мрачный\", \"мужицкий\", \"мягкий\", \"нависший\", \"наивный\", \"нарядный\", \"нахмуренный\", \"небольшой\", \"невысокий\", \"неподвижный\", \"несчастный\", \"неуклюжий\", \"новый\", \"острый\", \"плоский\", \"покойный\", \"полный\", \"полотняный\", \"поношенный\", \"порядочный\", \"постный\", \"примой\", \"приятный\", \"просторный\", \"пухлый\", \"равнодушный\", \"распущенный\", \"роскошный\", \"рыжий\", \"седой\", \"серьезный\", \"синий\", \"ситцевый\", \"скромный\", \"скуластый\", \"слабый\", \"смуглый\", \"солидный\", \"старый\", \"стройный\", \"суровой\", \"сутулый\", \"сухощавый\", \"темный\", \"толстый\", \"тонкий\", \"тучный\", \"тупой\", \"тяжёлый\", \"умный\", \"хищный\", \"худенький\", \"худощавый\", \"черный\", \"чернобровый\", \"чёрный\", \"широкий\"\n",
    "appearanceAdjs = simple_counter(wordList, theText)\n",
    "wordstostem = \"белый бессмысленный бледный блестящий больничный больной босой вышитый веселый внушительный водяночный военный высокий вышитый громадный грубый грустный длинный душистый желтый жилистый заплаканный здоровый здоровенный зеленый изодранный испитый испуганный короткий красивый красный краснощекий кроткий круглый кудрявый легкий лукавый лысый маленький мелкий молодой мрачный мужицкий мягкий нависший наивный нарядный нахмуренный небольшой невысокий неподвижный несчастный неуклюжий новый острый плоский покойный полный полотняный поношенный порядочный постный примой приятный просторный пухлый равнодушный распущенный роскошный рыжий седой серьезный синий ситцевый скромный скуластый слабый смуглый солидный старый стройный суровой сутулый сухощавый темный толстый тонкий тучный тупой тяжёлый умный хищный худенький худощавый черный чернобровый чёрный широкий\""
   ]
  },
  {
   "cell_type": "code",
   "execution_count": 501,
   "metadata": {
    "scrolled": false
   },
   "outputs": [
    {
     "name": "stdout",
     "output_type": "stream",
     "text": [
      "{'белый': 116, 'белая': 100, 'белое': 52, 'белые': 144, 'бессмысленный': 8, 'бессмысленная': 4, 'бессмысленное': 12, 'бессмысленные': 0, 'бледный': 88, 'бледная': 116, 'бледное': 144, 'бледные': 64, 'блестящий': 8, 'блестящая': 4, 'блестящее': 4, 'блестящие': 48, 'больничный': 4, 'больничная': 0, 'больничное': 0, 'больничные': 0, 'больной': 112, 'больная': 28, 'больные': 72, 'больное': 24, 'босой': 24, 'босая': 40, 'босое': 0, 'босые': 20, 'вышитый': 0, 'веселый': 60, 'веселая': 40, 'веселые': 24, 'веселое': 8, 'внушительный': 4, 'внушительная': 8, 'внушительные': 0, 'внушительное': 0, 'водяночный': 4, 'военный': 36, 'высокий': 180, 'громадный': 40, 'грубый': 32, 'грубая': 8, 'грубые': 16, 'грубое': 12, 'грустный': 20, 'грустная': 8, 'длинный': 192, 'душистый': 12, 'желтый': 24, 'жилистый': 4, 'заплаканный': 4, 'заплаканная': 24, 'здоровый': 76, 'здоровая': 52, 'здоровенный': 8, 'зеленый': 56, 'изодранный': 0, 'испитый': 0, 'испуганный': 12, 'короткий': 16, 'красивый': 84, 'красивая': 176, 'красный': 208, 'краснощекий': 8, 'кроткий': 16, 'круглый': 24, 'кудрявый': 16, 'легкий': 52, 'легкая': 36, 'лукавый': 4, 'лукавая': 4, 'лысый': 52, 'маленький': 316, 'маленькая': 184, 'мелкий': 12, 'мелкая': 16, 'молодой': 620, 'молодая': 228, 'мрачный': 12, 'мужицкий': 12, 'мягкий': 44, 'нависший': 0, 'наивный': 16, 'нарядный': 0, 'нахмуренный': 4, 'небольшой': 104, 'невысокий': 12, 'неподвижный': 32, 'несчастный': 88, 'неуклюжий': 4, 'новый': 108, 'острый': 48, 'плоский': 4, 'покойный': 56, 'полный': 108, 'полотняный': 0, 'поношенный': 12, 'порядочный': 52, 'постный': 12, 'примой': 0, 'приятный': 24, 'просторный': 4, 'пухлый': 48, 'равнодушный': 32, 'распущенный': 4, 'роскошный': 4, 'рыжий': 48, 'седой': 52, 'серьезный': 36, 'синий': 36, 'ситцевый': 0, 'скромный': 16, 'скуластый': 4, 'слабый': 48, 'смуглый': 24, 'солидный': 48, 'старый': 212, 'стройный': 12, 'суровой': 8, 'сутулый': 8, 'сухощавый': 4, 'темный': 64, 'толстый': 76, 'тонкий': 36, 'тучный': 0, 'тупой': 8, 'тяжёлый': 0, 'умный': 92, 'хищный': 0, 'худенький': 24, 'худощавый': 28, 'черный': 72, 'чернобровый': 4, 'чёрный': 0, 'широкий': 40}\n"
     ]
    }
   ],
   "source": [
    "import operator \n",
    "print(appearanceAdjs)\n",
    "sortedadjs = sorted(appearanceAdjs.items(), key=operator.itemgetter(1)) \n"
   ]
  },
  {
   "cell_type": "markdown",
   "metadata": {},
   "source": [
    "Above I have compiled a list of all the appearance adjectives listed in Tun's dissertation and their appearance in Chekhov's work. Some of the adjectives are listed as appearing zero times; I believe this is due to the fact that the adjectives are listed in the nominative masculine form and thus may appear with other gender endings and/or in other cases. Again, this is a big issue in using Russian text. "
   ]
  },
  {
   "cell_type": "markdown",
   "metadata": {},
   "source": [
    "Here we can see that the most frequently used adjective descriptors Chekhov uses to describe people are \"young (masc.)\", \"small (masc.)\", \"young (fem.)\", \"old (masc.)\", \"red (masc.)\", \"long (masc.)\", \"small (fem.)\", and \"tall (masc.). Of course, these are only the most frequently used adjectives from a curated list of adjectives that could be used to describe people, not all adjectives. Furthermore, it's important to note that while the adjectives could be used as descriptors of animate objects, they are not necessarily being used in that way. In other words, there could be many \"red\" things in the text that are not people that are throwing off the analysis. "
   ]
  },
  {
   "cell_type": "markdown",
   "metadata": {},
   "source": [
    "In the dissertation from which I took the appearance adjectives, it is suggested that certain appearance adjectives are encoded as either positive or negative either in the Russian cultural tradition or in Chekhov's work. I was inspired to try some basic sentiment analysis using this logic. Without going into too much detail, I will list the sentiment for each adjective (positive or negative as described in the dissertation) below (following the Jupyter notebook guide). I've chosen to give them in the nominative form (for all three genders and plurals) only for the sake of brevity. I am learning that this is one of the major challenges in Russian NLP. "
   ]
  },
  {
   "cell_type": "code",
   "execution_count": 503,
   "metadata": {
    "scrolled": true
   },
   "outputs": [],
   "source": [
    "short_sentiments = {\n",
    "    \"pos\": {\n",
    "        \"белый\": 0,#white, usually used to describe face. Neutral association\n",
    "        \"белое\": 0,\n",
    "        \"белая\": 0,\n",
    "        \"белые\": 0,\n",
    "        \"блестящий\": .25, #slightly positive, shining \n",
    "        \"блестящая\": .25,\n",
    "        \"блестящее\": .25,\n",
    "        \"блестящие\": .25,\n",
    "        \"босой\": 0, #barefoot, could be positive or negative (thus only including masculine)\n",
    "        \"бритый\": .1,#slightly positive, given only in masculine and neuter (because refers only to male or to face)\n",
    "        \"бритое\": .1,\n",
    "        \"беселый\": 1,#cheerful, happy\n",
    "        \"беселая\": 1,\n",
    "        \"беселое\": 1,\n",
    "        \"беселые\": 1,\n",
    "        \"здоровый\": 1,#healthy\n",
    "        \"здоровая\": 1, \n",
    "        \"здоровое\": 1, \n",
    "        \"здоровые\": 1,\n",
    "        \"здоровенный\": .5,#large, healthy sized\n",
    "        \"здоровенная\": .5, \n",
    "        \"здоровенное\": .5, \n",
    "        \"здоровенные\": .5,\n",
    "        \"красный\": .5, #red, sometimes positive\n",
    "        \"красная\": .5, \n",
    "        \"красное\": .5, \n",
    "        \"красные\": .5,\n",
    "        \"молодой\": .25, #young, usually positive\n",
    "        \"молодая\": .25, \n",
    "        \"молодое\": .25, \n",
    "        \"молодые\": .25,\n",
    "        \"мягкий\": .25, #soft\n",
    "        \"мягкая\": .25, \n",
    "        \"мякое\": .25, \n",
    "        \"мякие\": .25,\n",
    "        \"скромный\": .75, #modest\n",
    "        \"скромная\": .75,\n",
    "        \"скромное\": .75, \n",
    "        \"скромные\": .75,\n",
    "        \"приятный\": 1, #pleasant\n",
    "        \"приятная\": 1, \n",
    "        \"приятное\": 1, \n",
    "        \"приятные\": 1,\n",
    "        \"умный\": 1, #smart\n",
    "        \"умная\": 1, \n",
    "        \"умное\": 1, \n",
    "        \"умные\": 1,        \n",
    "    },\n",
    "    \"neg\": {\n",
    "        \"бледный\": -.5,#white but with association meaning pale or sickly\n",
    "        \"бледное\": -.5,\n",
    "        \"бледная\": -.5, \n",
    "        \"бледные\": -.5,\n",
    "        \"больничный\": -1,#sickly, related to hospital\n",
    "        \"больничная\": -1,\n",
    "        \"больничное\": -1,\n",
    "        \"больничные\": -1,\n",
    "        \"больной\": -1, #sick/ill\n",
    "        \"больная\": -1, \n",
    "        \"больное\": -1, \n",
    "        \"больные\": -1,\n",
    "        \"грубый\": -1,#rude\n",
    "        \"грубая\": -1, \n",
    "        \"грубое\": -1, \n",
    "        \"грубые\": -1,\n",
    "        \"грустный\": -1,#sad\n",
    "        \"грустная\": -1,\n",
    "        \"грустное\": -1, \n",
    "        \"грустные\": -1,\n",
    "        \"жилистый\": -1,#thin, sinewy\n",
    "        \"жилистая\": -1,\n",
    "        \"жилистое\": -1,\n",
    "        \"жилистые\": -1,\n",
    "        \"заплаканный\": -1,#crying\n",
    "        \"заплаканная\": -1,\n",
    "        \"заплаканное\": -1, \n",
    "        \"заплаканные\": -1,\n",
    "        \"испитой\": -.75,#thin, gaunt, emaciated \n",
    "        \"испитое\": -.75, \n",
    "        \"испитая\": -.75,\n",
    "        \"испитые\": -.75,\n",
    "        \"изодранный\": -1, #torn up (of clothes)\n",
    "        \"изодранная\": -1, \n",
    "        \"изодранное\": -1, \n",
    "        \"изодранные\": -1,\n",
    "        \"испуганный\": -1, #scared, frightened\n",
    "        \"испуганная\": -1, \n",
    "        \"испуганное\": -1, \n",
    "        \"испуганные\": -1,\n",
    "        \"лукавый\": -.5, #crafty, cunning\n",
    "        \"лукавая\": -.5, \n",
    "        \"лукавое\": -.5, \n",
    "        \"лукавые\": -.5,\n",
    "        \"маленькое\": -.1,#small, slightly negative\n",
    "        \"маленькая\": -.1,\n",
    "        \"маленький\": -.1,\n",
    "        \"маленькие\": -.1,\n",
    "        \"мелький\": -.1,#small/dainty, slightly negative\n",
    "        \"мелькое\": -.1,\n",
    "        \"мелькая\": -.1,\n",
    "        \"мелькие\": -.1,\n",
    "        \"наивный\": -1, #naive\n",
    "        \"наивная\": -1, \n",
    "        \"наивные\": -1, \n",
    "        \"наивное\": -1, \n",
    "        \"скуластый\": -.1,#large check bones, seen as negative and only used to describe males and faces\n",
    "        \"скуластое\": -.1,\n",
    "        \"бессмысленный\": -1,#without sense, always negative\n",
    "        \"бессмысленная\": -1,\n",
    "        \"бессмысленное\": -1,\n",
    "        \"бессмысленные\": -1,\n",
    "        \"мрачный\": -1, #dark/sullen, always negative\n",
    "        \"мрачная\": -1,\n",
    "        \"мрачное\": -1,\n",
    "        \"мрачные\": -1,\n",
    "        \"несчастный\": -1, #unlucky/unhappy, always negative\n",
    "        \"несчастная\": -1,\n",
    "        \"несчастное\": -1,\n",
    "        \"несчастные\": -1,\n",
    "        \"острый\": -1, #biting, acerbic \n",
    "        \"острая\": -1, \n",
    "        \"острое\": -1, \n",
    "        \"острые\": -1,\n",
    "        \"полный\": -.5, #full, large\n",
    "        \"полная\": -.5, \n",
    "        \"полное\": -.5, \n",
    "        \"полные\": -.5,\n",
    "        \"равнодушный\": -1, #apathetic/disinterested, always negative \n",
    "        \"равнодушная\": -1, \n",
    "        \"равнодушное\": -1,\n",
    "        \"равнодушные\": -1,\n",
    "        \"слабый\": -1, #weak\n",
    "        \"слабая\": -1, \n",
    "        \"слабые\": -1, \n",
    "        \"слабое\": -1,\n",
    "        \"суровый\": -1, #harsh/rough, always negative\n",
    "        \"суровая\": -1,\n",
    "        \"суровое\": -1,\n",
    "        \"суровые\": -1,\n",
    "        \"темный\": -1, #dark (as in personality)\n",
    "        \"темная\": -1, \n",
    "        \"темное\": -1, \n",
    "        \"темные\": -1,\n",
    "        \"толстый\": -1, #fat\n",
    "        \"толстая\": -1, \n",
    "        \"толстое\": -1, \n",
    "        \"толстые\": -1, \n",
    "        \"тонкий\": -.1, \n",
    "        \"тонкая\": -.1, #thin\n",
    "        \"тонкое\": -.1, \n",
    "        \"тонкие\": -.1,\n",
    "        \"хищный\": -1, #greedy, always negative\n",
    "        \"хищная\": -1,\n",
    "        \"хищное\": -1,\n",
    "        \"хищные\": -1, \n",
    "    }\n",
    "}"
   ]
  },
  {
   "cell_type": "code",
   "execution_count": 504,
   "metadata": {
    "scrolled": true
   },
   "outputs": [],
   "source": [
    "documents_sentiment = {}\n",
    "for fileid in ChekhovCorpus.fileids():\n",
    "    text = ChekhovCorpus.raw(fileid).lower()\n",
    "    tokens = nltk.word_tokenize(text)\n",
    "    score = 0\n",
    "    for polarity, words_dict in short_sentiments.items():\n",
    "        for word, value in words_dict.items():\n",
    "            score += tokens.count(word) + value\n",
    "    documents_sentiment[fileid] = score"
   ]
  },
  {
   "cell_type": "code",
   "execution_count": 506,
   "metadata": {
    "scrolled": true
   },
   "outputs": [
    {
     "name": "stdout",
     "output_type": "stream",
     "text": [
      "ДРАМА НА ОХОТЕ.unknown.txt\n"
     ]
    }
   ],
   "source": [
    "valuesFreqs = nltk.FreqDist(documents)\n",
    "mostpositive = valuesFreqs.max()\n",
    "print(mostpositive)#print text with highest value "
   ]
  },
  {
   "cell_type": "code",
   "execution_count": null,
   "metadata": {},
   "outputs": [],
   "source": [
    "import operator\n",
    "sorted_documents_sentiment = sorted((value, key) for (key,value) in documents_sentiment.items())#this sorts a dict\n",
    "pprint.pprint(sorted_documents_sentiment[0:10])"
   ]
  },
  {
   "cell_type": "markdown",
   "metadata": {},
   "source": [
    "Looking at the results of the sentiment analysis, I see that quite a few of the stories have the same negative score (-60.2). I am guessing this is because each of the words in the list of positive and negative adjectives may not appear enough times to make significant differentiation between Chekhov's stories. However, the overwhelmingly negative descriptions of people in Chekhov's work is interesting and fits with the general sentiment of Chekhov's work. I am curious to look at the stories that were highly positive, especially \"The Steppe\". This story is not exactly chipper so I am thinking my sentiment analysis would need significant development before I could comfortably say it predicts sentiment at large. However, this analysis only looks at adjectives that describe characters, so it is possible that the positive stories have more positively described characters than the others. The Huntsmen (Драма на охоте) has the largest score but is also the longest work by Chekhov, so I am going to rule that one out. I will look at Степь (The Steppe) to see what can be revealed. "
   ]
  },
  {
   "cell_type": "code",
   "execution_count": 533,
   "metadata": {
    "scrolled": true
   },
   "outputs": [
    {
     "data": {
      "text/plain": [
       "{'белый': 1,\n",
       " 'белая': 2,\n",
       " 'белое': 2,\n",
       " 'белые': 5,\n",
       " 'бессмысленный': 0,\n",
       " 'бессмысленная': 0,\n",
       " 'бессмысленное': 0,\n",
       " 'бессмысленные': 0,\n",
       " 'бледный': 0,\n",
       " 'бледная': 1,\n",
       " 'бледное': 1,\n",
       " 'бледные': 0,\n",
       " 'блестящий': 0,\n",
       " 'блестящая': 0,\n",
       " 'блестящее': 0,\n",
       " 'блестящие': 1,\n",
       " 'больничный': 0,\n",
       " 'больничная': 0,\n",
       " 'больничное': 0,\n",
       " 'больничные': 0,\n",
       " 'больной': 1,\n",
       " 'больная': 1,\n",
       " 'больные': 3,\n",
       " 'больное': 1,\n",
       " 'босой': 1,\n",
       " 'босая': 1,\n",
       " 'босое': 0,\n",
       " 'босые': 0,\n",
       " 'вышитый': 0,\n",
       " 'веселый': 0,\n",
       " 'веселая': 5,\n",
       " 'веселые': 0,\n",
       " 'веселое': 0,\n",
       " 'внушительный': 1,\n",
       " 'внушительная': 0,\n",
       " 'внушительные': 0,\n",
       " 'внушительное': 0,\n",
       " 'водяночный': 0,\n",
       " 'военный': 0,\n",
       " 'высокий': 1,\n",
       " 'громадный': 0,\n",
       " 'грубый': 0,\n",
       " 'грубая': 0,\n",
       " 'грубые': 0,\n",
       " 'грубое': 1,\n",
       " 'грустный': 1,\n",
       " 'грустная': 0,\n",
       " 'длинный': 6,\n",
       " 'душистый': 0,\n",
       " 'желтый': 0,\n",
       " 'жилистый': 0,\n",
       " 'заплаканный': 0,\n",
       " 'заплаканная': 1,\n",
       " 'здоровый': 1,\n",
       " 'здоровая': 0,\n",
       " 'здоровенный': 0,\n",
       " 'зеленый': 1,\n",
       " 'изодранный': 0,\n",
       " 'испитый': 0,\n",
       " 'испуганный': 1,\n",
       " 'короткий': 1,\n",
       " 'красивый': 0,\n",
       " 'красивая': 4,\n",
       " 'красный': 5,\n",
       " 'краснощекий': 0,\n",
       " 'кроткий': 0,\n",
       " 'круглый': 0,\n",
       " 'кудрявый': 1,\n",
       " 'легкий': 0,\n",
       " 'легкая': 0,\n",
       " 'лукавый': 0,\n",
       " 'лукавая': 0,\n",
       " 'лысый': 0,\n",
       " 'маленький': 8,\n",
       " 'маленькая': 2,\n",
       " 'мелкий': 0,\n",
       " 'мелкая': 0,\n",
       " 'молодой': 3,\n",
       " 'молодая': 5,\n",
       " 'мрачный': 0,\n",
       " 'мужицкий': 0,\n",
       " 'мягкий': 1,\n",
       " 'нависший': 0,\n",
       " 'наивный': 0,\n",
       " 'нарядный': 0,\n",
       " 'нахмуренный': 0,\n",
       " 'небольшой': 7,\n",
       " 'невысокий': 1,\n",
       " 'неподвижный': 1,\n",
       " 'несчастный': 0,\n",
       " 'неуклюжий': 0,\n",
       " 'новый': 1,\n",
       " 'острый': 3,\n",
       " 'плоский': 0,\n",
       " 'покойный': 0,\n",
       " 'полный': 1,\n",
       " 'полотняный': 0,\n",
       " 'поношенный': 2,\n",
       " 'порядочный': 0,\n",
       " 'постный': 0,\n",
       " 'примой': 0,\n",
       " 'приятный': 1,\n",
       " 'просторный': 0,\n",
       " 'пухлый': 2,\n",
       " 'равнодушный': 0,\n",
       " 'распущенный': 0,\n",
       " 'роскошный': 0,\n",
       " 'рыжий': 1,\n",
       " 'седой': 2,\n",
       " 'серьезный': 0,\n",
       " 'синий': 1,\n",
       " 'ситцевый': 0,\n",
       " 'скромный': 0,\n",
       " 'скуластый': 0,\n",
       " 'слабый': 0,\n",
       " 'смуглый': 0,\n",
       " 'солидный': 0,\n",
       " 'старый': 2,\n",
       " 'стройный': 1,\n",
       " 'суровой': 1,\n",
       " 'сутулый': 0,\n",
       " 'сухощавый': 0,\n",
       " 'темный': 1,\n",
       " 'толстый': 1,\n",
       " 'тонкий': 0,\n",
       " 'тучный': 0,\n",
       " 'тупой': 0,\n",
       " 'тяжёлый': 0,\n",
       " 'умный': 1,\n",
       " 'хищный': 0,\n",
       " 'худенький': 0,\n",
       " 'худощавый': 0,\n",
       " 'черный': 2,\n",
       " 'чернобровый': 0,\n",
       " 'чёрный': 0,\n",
       " 'широкий': 0}"
      ]
     },
     "execution_count": 533,
     "metadata": {},
     "output_type": "execute_result"
    }
   ],
   "source": [
    "chekhovfilesv7 = glob.glob(\"/Users/kaylinland/llcu612/ChekhovFiles/Vol7/*txt\")\n",
    "steppe = read_file(chekhovfilesv7[9])\n",
    "steppetexttokens = tokenizer.tokenize(steppe.lower())\n",
    "steppetexttokensconcord = nltk.Text(steppetexttokens)\n",
    "simple_counter(wordList, steppetexttokens)\n"
   ]
  },
  {
   "cell_type": "markdown",
   "metadata": {},
   "source": [
    "Looking at the print out of sentiment words that  occur in \"The Steppe\", I see that красный (red) appears 6 times, and маленький (small) occurs 8 times. Веселая (happy) appears 6 times and красивая appears 5 times. All of these words are coded positively, which explains the high score. To get a better idea of the context of these words, I will use the concordance tool. "
   ]
  },
  {
   "cell_type": "code",
   "execution_count": 526,
   "metadata": {},
   "outputs": [
    {
     "name": "stdout",
     "output_type": "stream",
     "text": [
      "Displaying 5 of 5 matches:\n",
      "т глазами кумачовую рубаху егорушки красный ли цвет ей понравился или вспомнила\n",
      " кумачовую рубаху егорушки и бричку красный цвет рубахи манил и ласкал его а бр\n",
      "ет он и сам не заметил как приятный красный цвет и любопытство притянули его из\n",
      "ещенных половин в одной продавались красный товар и бакалея а в другой стояли б\n",
      "о где то на большой дороге светился красный огонек тоже вероятно кто нибудь вар\n"
     ]
    }
   ],
   "source": [
    "steppetexttokensconcord.concordance(\"красный\")"
   ]
  },
  {
   "cell_type": "markdown",
   "metadata": {},
   "source": [
    "I can see above that the four occurances of красный (pretty) are used in reference to inanimate objects (color, items, and fire). This is one challenge with using sentiment analysis based on animate adjectives and one possible explanation for the positive encoding of this story and others that have largely negative plots. "
   ]
  },
  {
   "cell_type": "code",
   "execution_count": 527,
   "metadata": {},
   "outputs": [
    {
     "name": "stdout",
     "output_type": "stream",
     "text": [
      "Displaying 5 of 5 matches:\n",
      " на его лице казалось что и хорошая веселая мысль застыла в его мозгу от жары а\n",
      "да она падала на землю и прозрачная веселая сверкающая на солнце и тихо ворча т\n",
      " войлоке и стали закусывать хорошая веселая мысль застывшая от жары в мозгу о х\n",
      "ах своей старости в ней поднимается веселая молодая трескотня какой не бывает д\n",
      "возле него постоянно живет ласковая веселая и красивая женщина пришла ему почем\n"
     ]
    }
   ],
   "source": [
    "steppetexttokensconcord.concordance(\"веселая\")"
   ]
  },
  {
   "cell_type": "markdown",
   "metadata": {},
   "source": [
    "I see the same issue with веселая (happy). Here happy is used to describe happy thoughts, happy animals, and happy people. "
   ]
  },
  {
   "cell_type": "markdown",
   "metadata": {},
   "source": [
    "# Conclusions and Lessons Learned "
   ]
  },
  {
   "cell_type": "markdown",
   "metadata": {},
   "source": [
    "In terms of the textual analysis I was able to perform, I would say this project proved far more useful as a learning experience for me than as actual literary analysis. While I was able to make some basic conclusions about Chekhov's use of adjectives, I was not able to perform the large-scale structuralist analysis of Chekhov's adjective usage I had in mind when I proposed the project (which I now see was overly ambitious). That being said, the biggest take-aways I have from the project are as follows: \n",
    "1. Russian NLP requires Russian-specific tools. I was able to use MyStem and its Python module successfully and this will prove useful for future POS tagging in Russian. I am still wrestling with a way to use the Russian version of WordNet in Python. \n",
    "2. The structure of Russian raises interesting questions about how to analize individual words that have different forms in different cases and with different gender endings. I need to investigate tools for dealing with this. \n",
    "3. Using short stories to calculate relative frequencies of word usage is tenuous at best, as a single usage of a word results in a high relative frequency of usage that may not be significant. \n",
    "4. Sentiment analysis is only as good as the words you utilize to make the analysis. It would be interesting to analyze Chekhov's work with a larger set of terms. \n",
    "\n",
    "Were I to continue this line of inquiry, I would like to explore Chekhov's work in comparison with another Russian author's work to see if Chekhov's usage of adjectives is unique. I would also like to explore the gender question in more detail. At a larger scale, this project has highlighted the difficulty of using computational analysis to make sense of an author like Chekhov, who does not necessarily utilize language or plot in a typical way. I believe studying the structure of Chekhov's stories provides a unique opportunity to test digital humanities methodology and this preliminary work was highly instructive for me!"
   ]
  },
  {
   "cell_type": "markdown",
   "metadata": {},
   "source": [
    "# References\n",
    "Conceptual work: \n",
    "\n",
    "I., Baybuza M., and Lipina V.I. “Specific Features of A.P. Chekhov’s Short Stories.” Випуск 37, 2013, pp. 3–5.\n",
    "le Fleming, L. S. K. “The Structural Role of Language in Chekhov’s Later Stories.” The Slavonic and East European Review, vol. 48, no. 112, 1970, pp. 323–40.\n",
    "Дунсюй, Ци. Функционирование Лексической Синонимии в Рассказах А.П. Чехова. Белорусский Государственный Университет, 2014.\n",
    "Тун, Лю. Лексико-Семантическая Группа Прилагательных, Описывающих Внешность Человека (На Материале Прозведений А.П. Чехова): Лингвокультурологический Аспект. Санкт-Петербургский Государственный Университет, 2017.\n",
    "\n",
    "Technical references: \n",
    "https://github.com/quinnanya/dlcl204/blob/master/russian/pos_russian.md\n",
    "https://nbviewer.jupyter.org/github/sgsinclair/alta/blob/master/ipynb/GettingNltk.ipynb\n",
    "https://nbviewer.jupyter.org/github/sgsinclair/alta/blob/master/ipynb/SentimentAnalysis.ipynb"
   ]
  },
  {
   "cell_type": "code",
   "execution_count": null,
   "metadata": {},
   "outputs": [],
   "source": []
  }
 ],
 "metadata": {
  "kernelspec": {
   "display_name": "Python [conda env:mypystem]",
   "language": "python",
   "name": "conda-env-mypystem-py"
  },
  "language_info": {
   "codemirror_mode": {
    "name": "ipython",
    "version": 3
   },
   "file_extension": ".py",
   "mimetype": "text/x-python",
   "name": "python",
   "nbconvert_exporter": "python",
   "pygments_lexer": "ipython3",
   "version": "3.6.8"
  }
 },
 "nbformat": 4,
 "nbformat_minor": 2
}
