{
 "cells": [
  {
   "cell_type": "code",
   "execution_count": 406,
   "metadata": {},
   "outputs": [],
   "source": [
    "import urllib.request\n",
    "\n",
    "def fetch(url):\n",
    "    response = urllib.request.urlopen(url)\n",
    "    return response.read()"
   ]
  },
  {
   "cell_type": "code",
   "execution_count": 407,
   "metadata": {},
   "outputs": [
    {
     "data": {
      "text/plain": [
       "b'\\xef\\xbb\\xbfThis Etext file is presented by Project Gutenberg, in\\r\\ncooperation with World'"
      ]
     },
     "execution_count": 407,
     "metadata": {},
     "output_type": "execute_result"
    }
   ],
   "source": [
    "macbethUrl = \"http://www.gutenberg.org/cache/epub/1129/pg1129.txt\"\n",
    "macbethSource = fetch(macbethUrl)\n",
    "macbethSource[0:80]"
   ]
  },
  {
   "cell_type": "markdown",
   "metadata": {},
   "source": [
    "I have followed the directions given in the Jupyter notebook. I need to find a way to use BeautifulSoup to extract just the text and exclude all markups. So I utilized the function given in the notebook. I tweaked it slightly to use the BeautifulSoup command soup.text. This seems to have been successful. "
   ]
  },
  {
   "cell_type": "code",
   "execution_count": 408,
   "metadata": {},
   "outputs": [
    {
     "data": {
      "text/plain": [
       "'This Etext file is presented by Project Gutenberg, in\\r\\ncooperation with World Library, Inc., from their Library of the\\r\\nFuture and Shakespeare CDROMS.  Project Gutenberg often releases\\r\\nEtexts that are NOT placed in the Public Domain!!\\r\\n\\r\\n*This Etext has certain copyright implications you should read!*\\r\\n\\r\\n<>\\r\\n\\r\\n*Project Gutenberg is proud to cooperate with The World Library*\\r\\nin the presentation of The Complete Works of William Shakespeare\\r\\nfor your reading for education and entertainment.  HOWEVER, THIS\\r\\nIS NEITHER SHAREWARE NOR PUBLIC DOMAIN. . .AND UNDER THE LIBRARY\\r\\nOF THE FUTURE CONDITIONS OF THIS PRESENTATION. . .NO CHARGES MAY\\r\\nBE MADE FOR *ANY* ACCESS TO THIS MATERIAL.  YOU ARE ENCOURAGED!!\\r\\nTO GIVE IT AWAY TO ANYONE YOU LIKE, BUT NO CHARGES ARE ALLOWED!!\\r\\n\\r\\n\\r\\n**Welcome To The World of Free Plain Vanilla Electronic Texts**\\r\\n\\r\\n**Etexts Readable By Both Humans and By Computers, Since 1971**\\r\\n\\r\\n*These Etexts Prepared By Hundreds of Volunteers and Donations*\\r\\n\\r\\nInformation on conta'"
      ]
     },
     "execution_count": 408,
     "metadata": {},
     "output_type": "execute_result"
    }
   ],
   "source": [
    "from bs4 import BeautifulSoup as bs\n",
    "def extract(source):\n",
    "    soup = bs(source) \n",
    "    return soup.text\n",
    "macbethSoup = extract(macbethSource)\n",
    "\n",
    "macbethSoup[0:1000]"
   ]
  },
  {
   "cell_type": "markdown",
   "metadata": {},
   "source": [
    "Now I will work with the regex commands. I need to understand what this function is actually doing. So I see that we import the regex commands and use the variable directions to define a regex. Then we write a function that is called clean(text). Within the function, there is a variable called lines. This variable takes a regular expression substitution, so it substitutes the regular expression found in the text and replaces it with something else in the text. Then the split divides the text by line breaks. The return of the function tells the computer to return x for each x in lines (defined above) only when the x does not match the regex; so return everything except the regex. Okay. Now I can move forward. "
   ]
  },
  {
   "cell_type": "code",
   "execution_count": 409,
   "metadata": {},
   "outputs": [],
   "source": [
    "import re\n",
    "directions = r'Etext'\n",
    "\n",
    "def clean(text):\n",
    "    lines = re.sub('\\r', \"\\n\", text).split(\"\\n\")\n",
    "    return [x for x in lines if not re.match(directions, x)]\n",
    "\n",
    "macbeth = clean(macbethSoup)"
   ]
  },
  {
   "cell_type": "markdown",
   "metadata": {},
   "source": [
    "Okay, so I am starting with the function given in the Jupyter notebook for the Godfather text. What I need to do is to split my text, but I need to use the '\\r' for carriage return to split the lines. I need to figure out how to use this function to include my regexs. However, I'm not sure I can actually use this function for all my regex and I need to break it down to better understand it. I can see below that my text is now properly split. I'm going to work with the split text and utilize each regex as its own step to clean the text. "
   ]
  },
  {
   "cell_type": "code",
   "execution_count": 410,
   "metadata": {
    "scrolled": false
   },
   "outputs": [
    {
     "data": {
      "text/plain": [
       "['This Etext file is presented by Project Gutenberg, in',\n",
       " '',\n",
       " 'cooperation with World Library, Inc., from their Library of the',\n",
       " '',\n",
       " 'Future and Shakespeare CDROMS.  Project Gutenberg often releases',\n",
       " '',\n",
       " '',\n",
       " '',\n",
       " '',\n",
       " '*This Etext has certain copyright implications you should read!*',\n",
       " '',\n",
       " '',\n",
       " '',\n",
       " '<>',\n",
       " '',\n",
       " '',\n",
       " '',\n",
       " '*Project Gutenberg is proud to cooperate with The World Library*',\n",
       " '',\n",
       " 'in the presentation of The Complete Works of William Shakespeare',\n",
       " '',\n",
       " 'for your reading for education and entertainment.  HOWEVER, THIS',\n",
       " '',\n",
       " 'IS NEITHER SHAREWARE NOR PUBLIC DOMAIN. . .AND UNDER THE LIBRARY',\n",
       " '',\n",
       " 'OF THE FUTURE CONDITIONS OF THIS PRESENTATION. . .NO CHARGES MAY',\n",
       " '',\n",
       " 'BE MADE FOR *ANY* ACCESS TO THIS MATERIAL.  YOU ARE ENCOURAGED!!',\n",
       " '',\n",
       " 'TO GIVE IT AWAY TO ANYONE YOU LIKE, BUT NO CHARGES ARE ALLOWED!!',\n",
       " '',\n",
       " '',\n",
       " '',\n",
       " '',\n",
       " '',\n",
       " '**Welcome To The World of Free Plain Vanilla Electronic Texts**',\n",
       " '',\n",
       " '',\n",
       " '',\n",
       " '**Etexts Readable By Both Humans and By Computers, Since 1971**',\n",
       " '',\n",
       " '',\n",
       " '',\n",
       " '*These Etexts Prepared By Hundreds of Volunteers and Donations*',\n",
       " '',\n",
       " '',\n",
       " '',\n",
       " 'Information on contacting Project Gutenberg to get Etexts, and',\n",
       " '',\n",
       " 'further information is included below.  We need your donations.',\n",
       " '',\n",
       " '',\n",
       " '',\n",
       " '',\n",
       " '',\n",
       " 'The Complete Works of William Shakespeare',\n",
       " '',\n",
       " 'The Tragedy of Macbeth',\n",
       " '',\n",
       " '',\n",
       " '',\n",
       " 'December, 1997  [Etext #1129]',\n",
       " '',\n",
       " '',\n",
       " '',\n",
       " '',\n",
       " '',\n",
       " 'The Library of the Future Complete Works of William Shakespeare',\n",
       " '',\n",
       " 'Library of the Future is a TradeMark (TM) of World Library Inc.',\n",
       " '',\n",
       " '******This file should be named 1129.txt or 1129.zip*****',\n",
       " '',\n",
       " '',\n",
       " '',\n",
       " '',\n",
       " '',\n",
       " 'The official release date of all Project Gutenberg Etexts is at',\n",
       " '',\n",
       " 'Midnight, Central Time, of the last day of the stated month.  A',\n",
       " '',\n",
       " 'preliminary version may often be posted for suggestion, comment',\n",
       " '',\n",
       " 'and editing by those who wish to do so.  To be sure you have an',\n",
       " '',\n",
       " 'up to date first edition [xxxxx10x.xxx] please check file sizes',\n",
       " '',\n",
       " 'in the first week of the next month.',\n",
       " '',\n",
       " '',\n",
       " '',\n",
       " '',\n",
       " '',\n",
       " 'Information about Project Gutenberg (one page)',\n",
       " '',\n",
       " '',\n",
       " '',\n",
       " 'We produce about two million dollars for each hour we work.  The',\n",
       " '',\n",
       " 'fifty hours is one conservative estimate for how long it we take']"
      ]
     },
     "execution_count": 410,
     "metadata": {},
     "output_type": "execute_result"
    }
   ],
   "source": [
    "macbeth[0:100]"
   ]
  },
  {
   "cell_type": "markdown",
   "metadata": {},
   "source": [
    "So, first I want to get rid of the metadata at the beginning and end of the text. To do this, I need to find the place in the text where the play begins and ends. I already have this info from when I did this in Atom. I'm breaking this into a for loop so I can better understand it. I am using the match function to find the spot in the text where I know the actual play begins. I will use enumerate so I know which line the play begins on and so that I can create a new version of the text beginning on that line. "
   ]
  },
  {
   "cell_type": "code",
   "execution_count": 411,
   "metadata": {},
   "outputs": [
    {
     "name": "stdout",
     "output_type": "stream",
     "text": [
      "SCENE: Scotland and England\n",
      "499\n"
     ]
    }
   ],
   "source": [
    "for num, x in enumerate(macbeth):\n",
    "    if re.match(r'.*(?=^SCENE:)',x):\n",
    "        print(x)\n",
    "        print(num)"
   ]
  },
  {
   "cell_type": "code",
   "execution_count": 412,
   "metadata": {},
   "outputs": [
    {
     "name": "stdout",
     "output_type": "stream",
     "text": [
      "Start Line:  499\n",
      "End Line:  6243\n"
     ]
    },
    {
     "data": {
      "text/plain": [
       "['SCENE: Scotland and England',\n",
       " '',\n",
       " '',\n",
       " '',\n",
       " '',\n",
       " '',\n",
       " 'ACT I. SCENE I.',\n",
       " '',\n",
       " 'A desert place. Thunder and lightning.',\n",
       " '',\n",
       " '',\n",
       " '',\n",
       " 'Enter three Witches.',\n",
       " '',\n",
       " '',\n",
       " '',\n",
       " '  FIRST WITCH. When shall we three meet again?',\n",
       " '',\n",
       " '    In thunder, lightning, or in rain?',\n",
       " '',\n",
       " \"  SECOND WITCH. When the hurlyburly's done,\",\n",
       " '',\n",
       " \"    When the battle's lost and won.\",\n",
       " '',\n",
       " '  THIRD WITCH. That will be ere the set of sun.',\n",
       " '',\n",
       " '  FIRST WITCH. Where the place?',\n",
       " '',\n",
       " '  SECOND WITCH. Upon the heath.',\n",
       " '',\n",
       " '  THIRD WITCH. There to meet with Macbeth.',\n",
       " '',\n",
       " '  FIRST WITCH. I come, Graymalkin.',\n",
       " '',\n",
       " '  ALL. Paddock calls. Anon!',\n",
       " '',\n",
       " '    Fair is foul, and foul is fair.',\n",
       " '',\n",
       " '    Hover through the fog and filthy air.                Exeunt.',\n",
       " '',\n",
       " '',\n",
       " '',\n",
       " '',\n",
       " '',\n",
       " '',\n",
       " '',\n",
       " '',\n",
       " '',\n",
       " 'SCENE II.',\n",
       " '']"
      ]
     },
     "execution_count": 412,
     "metadata": {},
     "output_type": "execute_result"
    }
   ],
   "source": [
    "for num, x in enumerate(macbeth):\n",
    "    if re.match(r'.*(?=^SCENE:)',x): \n",
    "        print(\"Start Line: \",num)\n",
    "        beginningline = num\n",
    "    if re.search(r'(-THE END-)', x): \n",
    "        print(\"End Line: \",num)\n",
    "        endline = num\n",
    "        \n",
    "        \n",
    "step2 = macbeth[beginningline:endline]\n",
    "step2[0:50]"
   ]
  },
  {
   "cell_type": "markdown",
   "metadata": {},
   "source": [
    "Now I have only the text of the play. So, now need to work through the regex expressions. I will begin with the expression that finds all left-justified text and replaces it with blanks. I'm trying a simple expression to see if it works. So, this is telling the computer to look through each line in the step2 text and print everything except the left justified text (as told by the regular expression). "
   ]
  },
  {
   "cell_type": "code",
   "execution_count": 413,
   "metadata": {},
   "outputs": [
    {
     "data": {
      "text/plain": [
       "['SCENE: Scotland and England',\n",
       " '',\n",
       " '',\n",
       " '',\n",
       " '',\n",
       " '',\n",
       " 'ACT I. SCENE I.',\n",
       " '',\n",
       " 'A desert place. Thunder and lightning.',\n",
       " '',\n",
       " '',\n",
       " '',\n",
       " 'Enter three Witches.',\n",
       " '',\n",
       " '',\n",
       " '',\n",
       " '  FIRST WITCH. When shall we three meet again?',\n",
       " '',\n",
       " '    In thunder, lightning, or in rain?',\n",
       " '',\n",
       " \"  SECOND WITCH. When the hurlyburly's done,\",\n",
       " '',\n",
       " \"    When the battle's lost and won.\",\n",
       " '',\n",
       " '  THIRD WITCH. That will be ere the set of sun.',\n",
       " '',\n",
       " '  FIRST WITCH. Where the place?',\n",
       " '',\n",
       " '  SECOND WITCH. Upon the heath.',\n",
       " '',\n",
       " '  THIRD WITCH. There to meet with Macbeth.',\n",
       " '',\n",
       " '  FIRST WITCH. I come, Graymalkin.',\n",
       " '',\n",
       " '  ALL. Paddock calls. Anon!',\n",
       " '',\n",
       " '    Fair is foul, and foul is fair.',\n",
       " '',\n",
       " '    Hover through the fog and filthy air.                Exeunt.',\n",
       " '',\n",
       " '',\n",
       " '',\n",
       " '',\n",
       " '',\n",
       " '',\n",
       " '',\n",
       " '',\n",
       " '',\n",
       " 'SCENE II.',\n",
       " '']"
      ]
     },
     "execution_count": 413,
     "metadata": {},
     "output_type": "execute_result"
    }
   ],
   "source": [
    "step3 = [x for x in step2 if not re.match('^\\S+', x)]\n",
    "\n",
    "\n",
    "step2[0:50]\n"
   ]
  },
  {
   "cell_type": "markdown",
   "metadata": {},
   "source": [
    "Okay, so above is the old text and below is the new. Comparing them, it appears the expression did what I wanted (got rid of all the left justified text). "
   ]
  },
  {
   "cell_type": "code",
   "execution_count": 414,
   "metadata": {},
   "outputs": [
    {
     "data": {
      "text/plain": [
       "['',\n",
       " '',\n",
       " '',\n",
       " '',\n",
       " '',\n",
       " '',\n",
       " '',\n",
       " '',\n",
       " '',\n",
       " '',\n",
       " '',\n",
       " '',\n",
       " '  FIRST WITCH. When shall we three meet again?',\n",
       " '',\n",
       " '    In thunder, lightning, or in rain?',\n",
       " '',\n",
       " \"  SECOND WITCH. When the hurlyburly's done,\",\n",
       " '',\n",
       " \"    When the battle's lost and won.\",\n",
       " '',\n",
       " '  THIRD WITCH. That will be ere the set of sun.',\n",
       " '',\n",
       " '  FIRST WITCH. Where the place?',\n",
       " '',\n",
       " '  SECOND WITCH. Upon the heath.',\n",
       " '',\n",
       " '  THIRD WITCH. There to meet with Macbeth.',\n",
       " '',\n",
       " '  FIRST WITCH. I come, Graymalkin.',\n",
       " '',\n",
       " '  ALL. Paddock calls. Anon!',\n",
       " '',\n",
       " '    Fair is foul, and foul is fair.',\n",
       " '',\n",
       " '    Hover through the fog and filthy air.                Exeunt.',\n",
       " '',\n",
       " '',\n",
       " '',\n",
       " '',\n",
       " '',\n",
       " '',\n",
       " '',\n",
       " '',\n",
       " '',\n",
       " '',\n",
       " '',\n",
       " '',\n",
       " '',\n",
       " '',\n",
       " '']"
      ]
     },
     "execution_count": 414,
     "metadata": {},
     "output_type": "execute_result"
    }
   ],
   "source": [
    "step3[0:50]"
   ]
  },
  {
   "cell_type": "markdown",
   "metadata": {},
   "source": [
    "So now I want to remove all the capitalized character names. For this, I will need to use the grouping function to tell Python what to get rid of and what to keep. So, this regex is telling it to look at the beginning of the line for non-white space (from 1 to 4 non-spaces) and then to look for capital letters A-Z followed by up to 3 spaces, followed by more text. Group 2 tells Python to delete the second group (with capital letters). "
   ]
  },
  {
   "cell_type": "code",
   "execution_count": 415,
   "metadata": {},
   "outputs": [
    {
     "data": {
      "text/plain": [
       "[' When shall we three meet again?',\n",
       " \" When the hurlyburly's done,\",\n",
       " ' That will be ere the set of sun.',\n",
       " ' Where the place?',\n",
       " ' Upon the heath.',\n",
       " ' There to meet with Macbeth.',\n",
       " ' I come, Graymalkin.',\n",
       " ' Paddock calls. Anon!',\n",
       " ' What bloody man is that? He can report,',\n",
       " ' This is the sergeant',\n",
       " ' Doubtful it stood,',\n",
       " ' O valiant cousin! Worthy gentleman!',\n",
       " \" As whence the sun 'gins his reflection\",\n",
       " \" Dismay'd not this\",\n",
       " ' Yes,',\n",
       " ' So well thy words become thee as thy wounds;',\n",
       " ' What a haste looks through his eyes! So should he look',\n",
       " ' God save the King!',\n",
       " ' Whence camest thou, worthy Thane?',\n",
       " ' From Fife, great King,',\n",
       " ' Great happiness!',\n",
       " ' That now',\n",
       " ' No more that Thane of Cawdor shall deceive',\n",
       " \" I'll see it done.\",\n",
       " ' What he hath lost, noble Macbeth hath won.',\n",
       " ' Where hast thou been, sister?',\n",
       " ' Killing swine.',\n",
       " ' Sister, where thou?',\n",
       " \" A sailor's wife had chestnuts in her lap,\",\n",
       " \" I'll give thee a wind.\",\n",
       " \" Thou'rt kind.\",\n",
       " ' And I another.',\n",
       " ' I myself have all the other,',\n",
       " ' Show me, show me.',\n",
       " \" Here I have a pilot's thumb,\",\n",
       " ' A drum, a drum!',\n",
       " ' The weird sisters, hand in hand,',\n",
       " ' So foul and fair a day I have not seen.',\n",
       " \" How far is't call'd to Forres? What are these\",\n",
       " ' Speak, if you can. What are you?',\n",
       " ' All hail, Macbeth, hail to thee, Thane of Glamis!',\n",
       " ' All hail, Macbeth, hail to thee, Thane of Cawdor!',\n",
       " ' All hail, Macbeth, that shalt be King hereafter!',\n",
       " ' Good sir, why do you start, and seem to fear',\n",
       " ' Hail!',\n",
       " ' Hail!',\n",
       " ' Hail!',\n",
       " ' Lesser than Macbeth, and greater.',\n",
       " ' Not so happy, yet much happier.',\n",
       " ' Thou shalt get kings, though thou be none.']"
      ]
     },
     "execution_count": 415,
     "metadata": {},
     "output_type": "execute_result"
    }
   ],
   "source": [
    "step4 = [re.match('(^\\s{1,4})[A-Z\\s]{3,}\\.(.*)',x).group(2) for x in step3 if re.match('(^\\s{1,4})[A-Z\\s]*\\.',x)]\n",
    "\n",
    "step4[0:50]\n"
   ]
  },
  {
   "cell_type": "markdown",
   "metadata": {},
   "source": [
    "Okay, this looks good! The only thing left is to get rid of the asides in brackets and the right justified exits. So I will start with the right-justified exits. I will use the substitute function to substitute a blank space with text found after 8 or more blank spaces (which catches all the right justified text). "
   ]
  },
  {
   "cell_type": "code",
   "execution_count": 416,
   "metadata": {},
   "outputs": [
    {
     "data": {
      "text/plain": [
       "[' When shall we three meet again?',\n",
       " \" When the hurlyburly's done,\",\n",
       " ' That will be ere the set of sun.',\n",
       " ' Where the place?',\n",
       " ' Upon the heath.',\n",
       " ' There to meet with Macbeth.',\n",
       " ' I come, Graymalkin.',\n",
       " ' Paddock calls. Anon!',\n",
       " ' What bloody man is that? He can report,',\n",
       " ' This is the sergeant',\n",
       " ' Doubtful it stood,',\n",
       " ' O valiant cousin! Worthy gentleman!',\n",
       " \" As whence the sun 'gins his reflection\",\n",
       " \" Dismay'd not this\",\n",
       " ' Yes,',\n",
       " ' So well thy words become thee as thy wounds;',\n",
       " ' What a haste looks through his eyes! So should he look',\n",
       " ' God save the King!',\n",
       " ' Whence camest thou, worthy Thane?',\n",
       " ' From Fife, great King,',\n",
       " ' Great happiness!',\n",
       " ' That now',\n",
       " ' No more that Thane of Cawdor shall deceive',\n",
       " \" I'll see it done.\",\n",
       " ' What he hath lost, noble Macbeth hath won.',\n",
       " ' Where hast thou been, sister?',\n",
       " ' Killing swine.',\n",
       " ' Sister, where thou?',\n",
       " \" A sailor's wife had chestnuts in her lap,\",\n",
       " \" I'll give thee a wind.\",\n",
       " \" Thou'rt kind.\",\n",
       " ' And I another.',\n",
       " ' I myself have all the other,',\n",
       " ' Show me, show me.',\n",
       " \" Here I have a pilot's thumb,\",\n",
       " ' A drum, a drum!',\n",
       " ' The weird sisters, hand in hand,',\n",
       " ' So foul and fair a day I have not seen.',\n",
       " \" How far is't call'd to Forres? What are these\",\n",
       " ' Speak, if you can. What are you?',\n",
       " ' All hail, Macbeth, hail to thee, Thane of Glamis!',\n",
       " ' All hail, Macbeth, hail to thee, Thane of Cawdor!',\n",
       " ' All hail, Macbeth, that shalt be King hereafter!',\n",
       " ' Good sir, why do you start, and seem to fear',\n",
       " ' Hail!',\n",
       " ' Hail!',\n",
       " ' Hail!',\n",
       " ' Lesser than Macbeth, and greater.',\n",
       " ' Not so happy, yet much happier.',\n",
       " ' Thou shalt get kings, though thou be none.',\n",
       " ' Banquo and Macbeth, all hail!',\n",
       " ' Stay, you imperfect speakers, tell me more.',\n",
       " ' The earth hath bubbles as the water has,',\n",
       " \" Into the air, and what seem'd corporal melted\",\n",
       " ' Were such things here as we do speak about?',\n",
       " ' Your children shall be kings.',\n",
       " ' You shall be King.',\n",
       " ' And Thane of Cawdor too. Went it not so?',\n",
       " \" To the selfsame tune and words. Who's here?\",\n",
       " ' The King hath happily received, Macbeth,',\n",
       " ' We are sent',\n",
       " ' And for an earnest of a greater honor,',\n",
       " ' What, can the devil speak true?',\n",
       " ' The Thane of Cawdor lives. Why do you dress me',\n",
       " ' Who was the Thane lives yet,',\n",
       " ' [Aside.] Glamis, and Thane of Cawdor!',\n",
       " ' [Aside to Macbeth.] That, trusted home,',\n",
       " ' [Aside.] Two truths are told,',\n",
       " \" Look, how our partner's rapt.\",\n",
       " ' [Aside.] If chance will have me King, why, chance may',\n",
       " ' New honors come upon him,',\n",
       " ' [Aside.] Come what come may,',\n",
       " ' Worthy Macbeth, we stay upon your leisure.',\n",
       " ' Give me your favor; my dull brain was wrought',\n",
       " ' Very gladly.',\n",
       " ' Till then, enough. Come, friends.',\n",
       " ' Is execution done on Cawdor? Are not',\n",
       " ' My liege,',\n",
       " \" There's no art\",\n",
       " ' The service and the loyalty lowe,',\n",
       " ' Welcome hither.',\n",
       " ' There if I grow,',\n",
       " ' My plenteous joys,',\n",
       " ' The rest is labor, which is not used for you.',\n",
       " ' My worthy Cawdor!',\n",
       " ' [Aside.] The Prince of Cumberland! That is a step',\n",
       " ' True, worthy Banquo! He is full so valiant,',\n",
       " ' \"They met me in the day of success, and I have',\n",
       " ' The King comes here tonight.',\n",
       " \" Thou'rt mad to say it!\",\n",
       " ' So please you, it is true; our Thane is coming.',\n",
       " ' Give him tending;',\n",
       " ' My dearest love,',\n",
       " ' And when goes hence?',\n",
       " ' Tomorrow, as he purposes.',\n",
       " ' O, never',\n",
       " ' We will speak further.',\n",
       " ' Only look up clear;',\n",
       " ' This castle hath a pleasant seat; the air',\n",
       " ' This guest of summer,']"
      ]
     },
     "execution_count": 416,
     "metadata": {},
     "output_type": "execute_result"
    }
   ],
   "source": [
    "step5 = [re.sub('\\s{8,}.*', '', x) for x in step4] \n",
    "step5[0:100]"
   ]
  },
  {
   "cell_type": "markdown",
   "metadata": {},
   "source": [
    "Now all I need is to get rid of the asides in brackets. I will use the same substitution method as above, using the regex to find all text at the begining of the lines in brackets."
   ]
  },
  {
   "cell_type": "code",
   "execution_count": 417,
   "metadata": {},
   "outputs": [
    {
     "data": {
      "text/plain": [
       "[' When shall we three meet again?',\n",
       " \" When the hurlyburly's done,\",\n",
       " ' That will be ere the set of sun.',\n",
       " ' Where the place?',\n",
       " ' Upon the heath.',\n",
       " ' There to meet with Macbeth.',\n",
       " ' I come, Graymalkin.',\n",
       " ' Paddock calls. Anon!',\n",
       " ' What bloody man is that? He can report,',\n",
       " ' This is the sergeant',\n",
       " ' Doubtful it stood,',\n",
       " ' O valiant cousin! Worthy gentleman!',\n",
       " \" As whence the sun 'gins his reflection\",\n",
       " \" Dismay'd not this\",\n",
       " ' Yes,',\n",
       " ' So well thy words become thee as thy wounds;',\n",
       " ' What a haste looks through his eyes! So should he look',\n",
       " ' God save the King!',\n",
       " ' Whence camest thou, worthy Thane?',\n",
       " ' From Fife, great King,',\n",
       " ' Great happiness!',\n",
       " ' That now',\n",
       " ' No more that Thane of Cawdor shall deceive',\n",
       " \" I'll see it done.\",\n",
       " ' What he hath lost, noble Macbeth hath won.',\n",
       " ' Where hast thou been, sister?',\n",
       " ' Killing swine.',\n",
       " ' Sister, where thou?',\n",
       " \" A sailor's wife had chestnuts in her lap,\",\n",
       " \" I'll give thee a wind.\",\n",
       " \" Thou'rt kind.\",\n",
       " ' And I another.',\n",
       " ' I myself have all the other,',\n",
       " ' Show me, show me.',\n",
       " \" Here I have a pilot's thumb,\",\n",
       " ' A drum, a drum!',\n",
       " ' The weird sisters, hand in hand,',\n",
       " ' So foul and fair a day I have not seen.',\n",
       " \" How far is't call'd to Forres? What are these\",\n",
       " ' Speak, if you can. What are you?',\n",
       " ' All hail, Macbeth, hail to thee, Thane of Glamis!',\n",
       " ' All hail, Macbeth, hail to thee, Thane of Cawdor!',\n",
       " ' All hail, Macbeth, that shalt be King hereafter!',\n",
       " ' Good sir, why do you start, and seem to fear',\n",
       " ' Hail!',\n",
       " ' Hail!',\n",
       " ' Hail!',\n",
       " ' Lesser than Macbeth, and greater.',\n",
       " ' Not so happy, yet much happier.',\n",
       " ' Thou shalt get kings, though thou be none.',\n",
       " ' Banquo and Macbeth, all hail!',\n",
       " ' Stay, you imperfect speakers, tell me more.',\n",
       " ' The earth hath bubbles as the water has,',\n",
       " \" Into the air, and what seem'd corporal melted\",\n",
       " ' Were such things here as we do speak about?',\n",
       " ' Your children shall be kings.',\n",
       " ' You shall be King.',\n",
       " ' And Thane of Cawdor too. Went it not so?',\n",
       " \" To the selfsame tune and words. Who's here?\",\n",
       " ' The King hath happily received, Macbeth,',\n",
       " ' We are sent',\n",
       " ' And for an earnest of a greater honor,',\n",
       " ' What, can the devil speak true?',\n",
       " ' The Thane of Cawdor lives. Why do you dress me',\n",
       " ' Who was the Thane lives yet,',\n",
       " ' Glamis, and Thane of Cawdor!',\n",
       " ' That, trusted home,',\n",
       " ' Two truths are told,',\n",
       " \" Look, how our partner's rapt.\",\n",
       " ' If chance will have me King, why, chance may',\n",
       " ' New honors come upon him,',\n",
       " ' Come what come may,',\n",
       " ' Worthy Macbeth, we stay upon your leisure.',\n",
       " ' Give me your favor; my dull brain was wrought',\n",
       " ' Very gladly.',\n",
       " ' Till then, enough. Come, friends.',\n",
       " ' Is execution done on Cawdor? Are not',\n",
       " ' My liege,',\n",
       " \" There's no art\",\n",
       " ' The service and the loyalty lowe,',\n",
       " ' Welcome hither.',\n",
       " ' There if I grow,',\n",
       " ' My plenteous joys,',\n",
       " ' The rest is labor, which is not used for you.',\n",
       " ' My worthy Cawdor!',\n",
       " ' The Prince of Cumberland! That is a step',\n",
       " ' True, worthy Banquo! He is full so valiant,',\n",
       " ' \"They met me in the day of success, and I have',\n",
       " ' The King comes here tonight.',\n",
       " \" Thou'rt mad to say it!\",\n",
       " ' So please you, it is true; our Thane is coming.',\n",
       " ' Give him tending;',\n",
       " ' My dearest love,',\n",
       " ' And when goes hence?',\n",
       " ' Tomorrow, as he purposes.',\n",
       " ' O, never',\n",
       " ' We will speak further.',\n",
       " ' Only look up clear;',\n",
       " ' This castle hath a pleasant seat; the air',\n",
       " ' This guest of summer,']"
      ]
     },
     "execution_count": 417,
     "metadata": {},
     "output_type": "execute_result"
    }
   ],
   "source": [
    "step6 = [re.sub('^\\s*\\[.*\\]', '', x) for x in step5] \n",
    "step6[0:100]"
   ]
  },
  {
   "cell_type": "markdown",
   "metadata": {},
   "source": [
    "Great! I think I've got it! The biggest challenge is understanding the line-break structure, as well as integrating Python syntax into my understanding of regex. Combining both is challenging, but I think I have at least a basic understanding now."
   ]
  },
  {
   "cell_type": "code",
   "execution_count": null,
   "metadata": {},
   "outputs": [],
   "source": []
  }
 ],
 "metadata": {
  "kernelspec": {
   "display_name": "Python 3",
   "language": "python",
   "name": "python3"
  },
  "language_info": {
   "codemirror_mode": {
    "name": "ipython",
    "version": 3
   },
   "file_extension": ".py",
   "mimetype": "text/x-python",
   "name": "python",
   "nbconvert_exporter": "python",
   "pygments_lexer": "ipython3",
   "version": "3.7.1"
  }
 },
 "nbformat": 4,
 "nbformat_minor": 2
}
